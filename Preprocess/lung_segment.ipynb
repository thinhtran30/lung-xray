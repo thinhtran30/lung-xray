{
  "cells": [
    {
      "cell_type": "markdown",
      "metadata": {},
      "source": [
        "# I. Import libaries and set parameters:"
      ]
    },
    {
      "cell_type": "code",
      "execution_count": 1,
      "metadata": {},
      "outputs": [],
      "source": [
        "import tensorflow as tf\n",
        "import pandas as pd\n",
        "import os\n",
        "import time\n",
        "\n",
        "from matplotlib import pyplot as plt\n",
        "from IPython import display"
      ]
    },
    {
      "cell_type": "code",
      "execution_count": 2,
      "metadata": {},
      "outputs": [],
      "source": [
        "ROOT = \"/home/jupyter/lung_segmentation\"\n",
        "DATA_DIR = \"/home/jupyter/lung_segmentation/lung_seg\"\n",
        "ORI_PATH = \"/home/jupyter/lung_segmentation/lung_seg/CXR_png/\"\n",
        "MASK_PATH = \"/home/jupyter/lung_segmentation/lung_seg/masks/\"\n",
        "CROP_PATH = \"/home/jupyter/lung_x_ray/data/CheXpert-v1.0-small/val_frontal_cropped\""
      ]
    },
    {
      "cell_type": "code",
      "execution_count": 3,
      "metadata": {},
      "outputs": [],
      "source": [
        "BUFFER_SIZE = 400\n",
        "BATCH_SIZE = 1\n",
        "IMG_WIDTH = 256\n",
        "IMG_HEIGHT = 256"
      ]
    },
    {
      "cell_type": "markdown",
      "metadata": {},
      "source": [
        "# II. Build Model:"
      ]
    },
    {
      "cell_type": "markdown",
      "metadata": {},
      "source": [
        "## 1. Load image function:"
      ]
    },
    {
      "cell_type": "code",
      "execution_count": 4,
      "metadata": {},
      "outputs": [],
      "source": [
        "def load(image_file):\n",
        "  image = tf.io.read_file(image_file)\n",
        "  image = tf.image.decode_png(image, channels=3)\n",
        "  image = tf.cast(image, tf.float32)\n",
        "\n",
        "  return image"
      ]
    },
    {
      "cell_type": "code",
      "execution_count": 5,
      "metadata": {},
      "outputs": [],
      "source": [
        "def resize(input_image, real_image, height, width):\n",
        "  input_image = tf.image.resize(input_image, [height, width],\n",
        "                                method=tf.image.ResizeMethod.NEAREST_NEIGHBOR)\n",
        "  real_image = tf.image.resize(real_image, [height, width],\n",
        "                               method=tf.image.ResizeMethod.NEAREST_NEIGHBOR)\n",
        "\n",
        "  return input_image, real_image"
      ]
    },
    {
      "cell_type": "code",
      "execution_count": 6,
      "metadata": {},
      "outputs": [],
      "source": [
        "def random_crop(input_image, real_image):\n",
        "  stacked_image = tf.stack([input_image, real_image], axis=0)\n",
        "  cropped_image = tf.image.random_crop(\n",
        "      stacked_image, size=[2, IMG_HEIGHT, IMG_WIDTH, 3])\n",
        "\n",
        "  return cropped_image[0], cropped_image[1]"
      ]
    },
    {
      "cell_type": "code",
      "execution_count": 7,
      "metadata": {},
      "outputs": [],
      "source": [
        "def normalize(input_image, real_image):\n",
        "  \"\"\" Normalizing the images to [-1, 1]\n",
        "  \"\"\"\n",
        "  input_image = (input_image / 127.5) - 1\n",
        "  real_image = (real_image / 127.5) - 1\n",
        "\n",
        "  return input_image, real_image"
      ]
    },
    {
      "cell_type": "code",
      "execution_count": 8,
      "metadata": {},
      "outputs": [],
      "source": [
        "@tf.function()\n",
        "def random_jitter(input_image, real_image):\n",
        "  # resizing to 286 x 286 x 3\n",
        "  input_image, real_image = resize(input_image, real_image, 286, 286)\n",
        "\n",
        "  # randomly cropping to 256 x 256 x 3\n",
        "  input_image, real_image = random_crop(input_image, real_image)\n",
        "\n",
        "  if tf.random.uniform(()) > 0.5:\n",
        "    # random mirroring\n",
        "    input_image = tf.image.flip_left_right(input_image)\n",
        "    real_image = tf.image.flip_left_right(real_image)\n",
        "\n",
        "  return input_image, real_image"
      ]
    },
    {
      "cell_type": "code",
      "execution_count": 9,
      "metadata": {},
      "outputs": [],
      "source": [
        "def load_image(ori_file, mask_file):\n",
        "  ori_file = load(ori_file)\n",
        "  mask_file = load(mask_file)\n",
        "  ori_file, mask_file = random_jitter(ori_file, mask_file)\n",
        "  ori_file, mask_file = normalize(ori_file, mask_file)\n",
        "\n",
        "  return ori_file, mask_file"
      ]
    },
    {
      "cell_type": "markdown",
      "metadata": {},
      "source": [
        "## 2. Train set and Validation set:"
      ]
    },
    {
      "cell_type": "code",
      "execution_count": 10,
      "metadata": {},
      "outputs": [],
      "source": [
        "images = os.listdir('/home/jupyter/lung_segmentation/lung_seg/CXR_png/')\n",
        "mask = os.listdir('/home/jupyter/lung_segmentation/lung_seg/masks/')\n",
        "mask = [fName.split(\".png\")[0] for fName in mask]\n",
        "image_file_name = [fName.split(\"_mask\")[0] for fName in mask]"
      ]
    },
    {
      "cell_type": "code",
      "execution_count": 11,
      "metadata": {
        "tags": []
      },
      "outputs": [
        {
          "output_type": "stream",
          "name": "stdout",
          "text": "Total mask that has modified name: 566\n"
        }
      ],
      "source": [
        "check = [i for i in mask if \"mask\" in i]\n",
        "print(\"Total mask that has modified name:\",len(check))"
      ]
    },
    {
      "cell_type": "code",
      "execution_count": 12,
      "metadata": {},
      "outputs": [],
      "source": [
        "ori_image_path = []\n",
        "for i in check:\n",
        "    a = os.path.join(ORI_PATH, i.split('_mask')[0] + \".png\")\n",
        "    ori_image_path.append(a)"
      ]
    },
    {
      "cell_type": "code",
      "execution_count": 13,
      "metadata": {},
      "outputs": [],
      "source": [
        "mask_image_path = []\n",
        "for i in check:\n",
        "    a = os.path.join(MASK_PATH, i + \".png\")\n",
        "    mask_image_path.append(a)"
      ]
    },
    {
      "cell_type": "code",
      "execution_count": 14,
      "metadata": {},
      "outputs": [
        {
          "output_type": "execute_result",
          "data": {
            "text/plain": "566"
          },
          "metadata": {},
          "execution_count": 14
        }
      ],
      "source": [
        "len(mask_image_path)"
      ]
    },
    {
      "cell_type": "code",
      "execution_count": 15,
      "metadata": {},
      "outputs": [
        {
          "output_type": "execute_result",
          "data": {
            "text/plain": "566"
          },
          "metadata": {},
          "execution_count": 15
        }
      ],
      "source": [
        "len(ori_image_path)"
      ]
    },
    {
      "cell_type": "code",
      "execution_count": 16,
      "metadata": {},
      "outputs": [],
      "source": [
        "train_dataset = tf.data.Dataset.from_tensor_slices((ori_image_path, mask_image_path))\n",
        "train_dataset = train_dataset.map(load_image,\n",
        "                                  num_parallel_calls=tf.data.experimental.AUTOTUNE)\n",
        "\n",
        "train_dataset = train_dataset.shuffle(BUFFER_SIZE)\n",
        "train_dataset = train_dataset.batch(BATCH_SIZE)"
      ]
    },
    {
      "cell_type": "code",
      "execution_count": 17,
      "metadata": {},
      "outputs": [],
      "source": [
        "test_dataset = tf.data.Dataset.from_tensor_slices(([DATA_DIR+'/CXR_png/CHNCXR_0001_0.png'], [DATA_DIR+'/masks/CHNCXR_0001_0_mask.png']))\n",
        "test_dataset = test_dataset.map(load_image,\n",
        "                                  num_parallel_calls=tf.data.experimental.AUTOTUNE)\n",
        "\n",
        "test_dataset = test_dataset.shuffle(BUFFER_SIZE)\n",
        "test_dataset = test_dataset.batch(BATCH_SIZE)"
      ]
    },
    {
      "cell_type": "code",
      "execution_count": 18,
      "metadata": {},
      "outputs": [
        {
          "output_type": "execute_result",
          "data": {
            "text/plain": "<BatchDataset shapes: ((None, 256, 256, 3), (None, 256, 256, 3)), types: (tf.float32, tf.float32)>"
          },
          "metadata": {},
          "execution_count": 18
        }
      ],
      "source": [
        "train_dataset"
      ]
    },
    {
      "cell_type": "markdown",
      "metadata": {},
      "source": [
        "## 3. Build the Generator"
      ]
    },
    {
      "cell_type": "markdown",
      "metadata": {},
      "source": [
        "### a. Model:"
      ]
    },
    {
      "cell_type": "code",
      "execution_count": 19,
      "metadata": {},
      "outputs": [],
      "source": [
        "OUTPUT_CHANNELS = 3"
      ]
    },
    {
      "cell_type": "code",
      "execution_count": 20,
      "metadata": {},
      "outputs": [],
      "source": [
        "def downsample(filters, size, apply_batchnorm=True):\n",
        "    initializer = tf.random_normal_initializer(0., 0.02)\n",
        "\n",
        "    result = tf.keras.Sequential()\n",
        "    result.add(tf.keras.layers.Conv2D(filters, size, strides=2, padding='same',\n",
        "                                      kernel_initializer=initializer, use_bias=False))\n",
        "\n",
        "    if apply_batchnorm:\n",
        "      result.add(tf.keras.layers.BatchNormalization())\n",
        "\n",
        "    result.add(tf.keras.layers.LeakyReLU())\n",
        "\n",
        "    return result"
      ]
    },
    {
      "cell_type": "code",
      "execution_count": 21,
      "metadata": {},
      "outputs": [],
      "source": [
        "def upsample(filters, size, apply_dropout=False):\n",
        "    initializer = tf.random_normal_initializer(0., 0.02)\n",
        "\n",
        "    result = tf.keras.Sequential()\n",
        "    result.add(tf.keras.layers.Conv2DTranspose(filters, size, strides=2, padding='same',\n",
        "                                                kernel_initializer=initializer, use_bias=False))\n",
        "\n",
        "    result.add(tf.keras.layers.BatchNormalization())\n",
        "\n",
        "    if apply_dropout:\n",
        "        result.add(tf.keras.layers.Dropout(0.5))\n",
        "\n",
        "    result.add(tf.keras.layers.ReLU())\n",
        "\n",
        "    return result"
      ]
    },
    {
      "cell_type": "code",
      "execution_count": 22,
      "metadata": {},
      "outputs": [],
      "source": [
        "def Generator():\n",
        "    inputs = tf.keras.layers.Input(shape=[256,256,3])\n",
        "\n",
        "    down_stack = [\n",
        "      downsample(64, 4, apply_batchnorm=False), # (bs, 128, 128, 64)\n",
        "      downsample(128, 4), # (bs, 64, 64, 128)\n",
        "      downsample(256, 4), # (bs, 32, 32, 256)\n",
        "      downsample(512, 4), # (bs, 16, 16, 512)\n",
        "      downsample(512, 4), # (bs, 8, 8, 512)\n",
        "      downsample(512, 4), # (bs, 4, 4, 512)\n",
        "      downsample(512, 4), # (bs, 2, 2, 512)\n",
        "      downsample(512, 4), # (bs, 1, 1, 512)\n",
        "    ]\n",
        "\n",
        "    up_stack = [\n",
        "      upsample(512, 4, apply_dropout=True), # (bs, 2, 2, 1024)\n",
        "      upsample(512, 4, apply_dropout=True), # (bs, 4, 4, 1024)\n",
        "      upsample(512, 4, apply_dropout=True), # (bs, 8, 8, 1024)\n",
        "      upsample(512, 4), # (bs, 16, 16, 1024)\n",
        "      upsample(256, 4), # (bs, 32, 32, 512)\n",
        "      upsample(128, 4), # (bs, 64, 64, 256)\n",
        "      upsample(64, 4), # (bs, 128, 128, 128)\n",
        "    ]\n",
        "\n",
        "    initializer = tf.random_normal_initializer(0., 0.02)\n",
        "    last = tf.keras.layers.Conv2DTranspose(OUTPUT_CHANNELS, 4,\n",
        "                                          strides=2,\n",
        "                                          padding='same',\n",
        "                                          kernel_initializer=initializer,\n",
        "                                          activation='tanh') # (bs, 256, 256, 3)\n",
        "\n",
        "    x = inputs\n",
        "\n",
        "    # Downsampling through the model\n",
        "    skips = []\n",
        "    for down in down_stack:\n",
        "      x = down(x)\n",
        "      skips.append(x)\n",
        "\n",
        "    skips = reversed(skips[:-1])\n",
        "\n",
        "    # Upsampling and establishing the skip connections\n",
        "    for up, skip in zip(up_stack, skips):\n",
        "      x = up(x)\n",
        "      x = tf.keras.layers.Concatenate()([x, skip])\n",
        "\n",
        "    x = last(x)\n",
        "\n",
        "    return tf.keras.Model(inputs=inputs, outputs=x)"
      ]
    },
    {
      "cell_type": "code",
      "execution_count": null,
      "metadata": {},
      "outputs": [],
      "source": [
        "generator = Generator()"
      ]
    },
    {
      "cell_type": "markdown",
      "metadata": {},
      "source": [
        "### b. Generator loss"
      ]
    },
    {
      "cell_type": "code",
      "execution_count": 26,
      "metadata": {},
      "outputs": [],
      "source": [
        "LAMBDA = 100"
      ]
    },
    {
      "cell_type": "code",
      "execution_count": 27,
      "metadata": {},
      "outputs": [],
      "source": [
        "loss_object = tf.keras.losses.BinaryCrossentropy(from_logits=True)"
      ]
    },
    {
      "cell_type": "code",
      "execution_count": 28,
      "metadata": {},
      "outputs": [],
      "source": [
        "def generator_loss(disc_generated_output, gen_output, target):\n",
        "  gan_loss = loss_object(tf.ones_like(disc_generated_output), disc_generated_output)\n",
        "\n",
        "  # mean absolute error\n",
        "  l1_loss = tf.reduce_mean(tf.abs(target - gen_output))\n",
        "\n",
        "  total_gen_loss = gan_loss + (LAMBDA * l1_loss)\n",
        "\n",
        "  return total_gen_loss, gan_loss, l1_loss"
      ]
    },
    {
      "cell_type": "markdown",
      "metadata": {},
      "source": [
        "## 4. Build the Discriminator"
      ]
    },
    {
      "cell_type": "markdown",
      "metadata": {},
      "source": [
        "### a. Model:"
      ]
    },
    {
      "cell_type": "code",
      "execution_count": 24,
      "metadata": {},
      "outputs": [],
      "source": [
        "def Discriminator():\n",
        "  initializer = tf.random_normal_initializer(0., 0.02)\n",
        "\n",
        "  inp = tf.keras.layers.Input(shape=[256, 256, 3], name='input_image')\n",
        "  tar = tf.keras.layers.Input(shape=[256, 256, 3], name='target_image')\n",
        "\n",
        "  x = tf.keras.layers.concatenate([inp, tar]) # (bs, 256, 256, channels*2)\n",
        "\n",
        "  down1 = downsample(64, 4, False)(x) # (bs, 128, 128, 64)\n",
        "  down2 = downsample(128, 4)(down1) # (bs, 64, 64, 128)\n",
        "  down3 = downsample(256, 4)(down2) # (bs, 32, 32, 256)\n",
        "\n",
        "  zero_pad1 = tf.keras.layers.ZeroPadding2D()(down3) # (bs, 34, 34, 256)\n",
        "  conv = tf.keras.layers.Conv2D(512, 4, strides=1,\n",
        "                                kernel_initializer=initializer,\n",
        "                                use_bias=False)(zero_pad1) # (bs, 31, 31, 512)\n",
        "\n",
        "  batchnorm1 = tf.keras.layers.BatchNormalization()(conv)\n",
        "\n",
        "  leaky_relu = tf.keras.layers.LeakyReLU()(batchnorm1)\n",
        "\n",
        "  zero_pad2 = tf.keras.layers.ZeroPadding2D()(leaky_relu) # (bs, 33, 33, 512)\n",
        "\n",
        "  last = tf.keras.layers.Conv2D(1, 4, strides=1,\n",
        "                                kernel_initializer=initializer)(zero_pad2) # (bs, 30, 30, 1)\n",
        "\n",
        "  return tf.keras.Model(inputs=[inp, tar], outputs=last)"
      ]
    },
    {
      "cell_type": "code",
      "execution_count": null,
      "metadata": {},
      "outputs": [],
      "source": [
        "discriminator = Discriminator()"
      ]
    },
    {
      "cell_type": "markdown",
      "metadata": {},
      "source": [
        "### b. Discriminator loss"
      ]
    },
    {
      "cell_type": "code",
      "execution_count": 29,
      "metadata": {},
      "outputs": [],
      "source": [
        "def discriminator_loss(disc_real_output, disc_generated_output):\n",
        "  real_loss = loss_object(tf.ones_like(disc_real_output), disc_real_output)\n",
        "\n",
        "  generated_loss = loss_object(tf.zeros_like(disc_generated_output), disc_generated_output)\n",
        "\n",
        "  total_disc_loss = real_loss + generated_loss\n",
        "\n",
        "  return total_disc_loss"
      ]
    },
    {
      "cell_type": "markdown",
      "metadata": {},
      "source": [
        "## 5. Define the Optimizers and Checkpoint-saver"
      ]
    },
    {
      "cell_type": "code",
      "execution_count": 30,
      "metadata": {},
      "outputs": [],
      "source": [
        "generator_optimizer = tf.keras.optimizers.Adam(2e-4, beta_1=0.5)\n",
        "discriminator_optimizer = tf.keras.optimizers.Adam(2e-4, beta_1=0.5)"
      ]
    },
    {
      "cell_type": "code",
      "execution_count": 31,
      "metadata": {},
      "outputs": [],
      "source": [
        "checkpoint_dir = './training_checkpoints'\n",
        "checkpoint_prefix = os.path.join(checkpoint_dir, \"ckpt\")\n",
        "checkpoint = tf.train.Checkpoint(generator_optimizer=generator_optimizer,\n",
        "                                 discriminator_optimizer=discriminator_optimizer,\n",
        "                                 generator=generator,\n",
        "                                 discriminator=discriminator)"
      ]
    },
    {
      "cell_type": "markdown",
      "metadata": {},
      "source": [
        "# III. Training"
      ]
    },
    {
      "cell_type": "code",
      "execution_count": 263,
      "metadata": {},
      "outputs": [],
      "source": [
        "EPOCHS = 150"
      ]
    },
    {
      "cell_type": "code",
      "execution_count": 264,
      "metadata": {},
      "outputs": [],
      "source": [
        "import datetime\n",
        "log_dir=\"logs/\"\n",
        "\n",
        "summary_writer = tf.summary.create_file_writer(\n",
        "  log_dir + \"fit/\" + datetime.datetime.now().strftime(\"%Y%m%d-%H%M%S\"))"
      ]
    },
    {
      "cell_type": "code",
      "execution_count": 265,
      "metadata": {},
      "outputs": [],
      "source": [
        "@tf.function\n",
        "def train_step(input_image, target, epoch):\n",
        "  with tf.GradientTape() as gen_tape, tf.GradientTape() as disc_tape:\n",
        "    gen_output = generator(input_image, training=True)\n",
        "\n",
        "    disc_real_output = discriminator([input_image, target], training=True)\n",
        "    disc_generated_output = discriminator([input_image, gen_output], training=True)\n",
        "\n",
        "    gen_total_loss, gen_gan_loss, gen_l1_loss = generator_loss(disc_generated_output, gen_output, target)\n",
        "    disc_loss = discriminator_loss(disc_real_output, disc_generated_output)\n",
        "\n",
        "  generator_gradients = gen_tape.gradient(gen_total_loss, generator.trainable_variables)\n",
        "  discriminator_gradients = disc_tape.gradient(disc_loss, discriminator.trainable_variables)\n",
        "\n",
        "  generator_optimizer.apply_gradients(zip(generator_gradients, generator.trainable_variables))\n",
        "  discriminator_optimizer.apply_gradients(zip(discriminator_gradients, discriminator.trainable_variables))\n",
        "\n",
        "  with summary_writer.as_default():\n",
        "    tf.summary.scalar('gen_total_loss', gen_total_loss, step=epoch)\n",
        "    tf.summary.scalar('gen_gan_loss', gen_gan_loss, step=epoch)\n",
        "    tf.summary.scalar('gen_l1_loss', gen_l1_loss, step=epoch)\n",
        "    tf.summary.scalar('disc_loss', disc_loss, step=epoch)"
      ]
    },
    {
      "cell_type": "code",
      "execution_count": 266,
      "metadata": {},
      "outputs": [],
      "source": [
        "def fit(train_ds, epochs, test_ds):\n",
        "  for epoch in range(epochs):\n",
        "    start = time.time()\n",
        "\n",
        "    display.clear_output(wait=True)\n",
        "\n",
        "    # Visualize training process \n",
        "    for example_input, example_target in test_ds.take(1):\n",
        "      generate_images(generator, example_input, example_target)\n",
        "    print(\"Epoch: \", epoch)\n",
        "\n",
        "    # Train\n",
        "    for n, (input_image, target) in train_ds.enumerate():\n",
        "      print('.', end='')\n",
        "      if (n+1) % 100 == 0:\n",
        "        print()\n",
        "      train_step(input_image, target, epoch)\n",
        "    print()\n",
        "\n",
        "    # saving (checkpoint) the model every 20 epochs\n",
        "    if (epoch + 1) % 20 == 0:\n",
        "      checkpoint.save(file_prefix = checkpoint_prefix)\n",
        "\n",
        "    print ('Time taken for epoch {} is {} sec\\n'.format(epoch + 1,\n",
        "                                                        time.time()-start))\n",
        "  checkpoint.save(file_prefix = checkpoint_prefix)"
      ]
    },
    {
      "cell_type": "code",
      "execution_count": 267,
      "metadata": {
        "tags": []
      },
      "outputs": [
        {
          "output_type": "display_data",
          "data": {
            "text/plain": "<Figure size 1080x1080 with 3 Axes>",
            "image/svg+xml": "<?xml version=\"1.0\" encoding=\"utf-8\" standalone=\"no\"?>\n<!DOCTYPE svg PUBLIC \"-//W3C//DTD SVG 1.1//EN\"\n  \"http://www.w3.org/Graphics/SVG/1.1/DTD/svg11.dtd\">\n<!-- Created with matplotlib (https://matplotlib.org/) -->\n<svg height=\"275.694596pt\" version=\"1.1\" viewBox=\"0 0 851.4 275.694596\" width=\"851.4pt\" xmlns=\"http://www.w3.org/2000/svg\" xmlns:xlink=\"http://www.w3.org/1999/xlink\">\n <defs>\n  <style type=\"text/css\">\n*{stroke-linecap:butt;stroke-linejoin:round;}\n  </style>\n </defs>\n <g id=\"figure_1\">\n  <g id=\"patch_1\">\n   <path d=\"M 0 275.694596 \nL 851.4 275.694596 \nL 851.4 -0 \nL 0 -0 \nz\n\" style=\"fill:none;\"/>\n  </g>\n  <g id=\"axes_1\">\n   <g clip-path=\"url(#p28deddb7ec)\">\n    <image height=\"247\" id=\"image831574fd3a\" transform=\"scale(1 -1)translate(0 -247)\" width=\"247\" x=\"7.2\" xlink:href=\"data:image/png;base64,\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\" y=\"-21.494596\"/>\n   </g>\n   <g id=\"text_1\">\n    <!-- Input Image -->\n    <defs>\n     <path d=\"M 9.8125 72.90625 \nL 19.671875 72.90625 \nL 19.671875 0 \nL 9.8125 0 \nz\n\" id=\"DejaVuSans-73\"/>\n     <path d=\"M 54.890625 33.015625 \nL 54.890625 0 \nL 45.90625 0 \nL 45.90625 32.71875 \nQ 45.90625 40.484375 42.875 44.328125 \nQ 39.84375 48.1875 33.796875 48.1875 \nQ 26.515625 48.1875 22.3125 43.546875 \nQ 18.109375 38.921875 18.109375 30.90625 \nL 18.109375 0 \nL 9.078125 0 \nL 9.078125 54.6875 \nL 18.109375 54.6875 \nL 18.109375 46.1875 \nQ 21.34375 51.125 25.703125 53.5625 \nQ 30.078125 56 35.796875 56 \nQ 45.21875 56 50.046875 50.171875 \nQ 54.890625 44.34375 54.890625 33.015625 \nz\n\" id=\"DejaVuSans-110\"/>\n     <path d=\"M 18.109375 8.203125 \nL 18.109375 -20.796875 \nL 9.078125 -20.796875 \nL 9.078125 54.6875 \nL 18.109375 54.6875 \nL 18.109375 46.390625 \nQ 20.953125 51.265625 25.265625 53.625 \nQ 29.59375 56 35.59375 56 \nQ 45.5625 56 51.78125 48.09375 \nQ 58.015625 40.1875 58.015625 27.296875 \nQ 58.015625 14.40625 51.78125 6.484375 \nQ 45.5625 -1.421875 35.59375 -1.421875 \nQ 29.59375 -1.421875 25.265625 0.953125 \nQ 20.953125 3.328125 18.109375 8.203125 \nz\nM 48.6875 27.296875 \nQ 48.6875 37.203125 44.609375 42.84375 \nQ 40.53125 48.484375 33.40625 48.484375 \nQ 26.265625 48.484375 22.1875 42.84375 \nQ 18.109375 37.203125 18.109375 27.296875 \nQ 18.109375 17.390625 22.1875 11.75 \nQ 26.265625 6.109375 33.40625 6.109375 \nQ 40.53125 6.109375 44.609375 11.75 \nQ 48.6875 17.390625 48.6875 27.296875 \nz\n\" id=\"DejaVuSans-112\"/>\n     <path d=\"M 8.5 21.578125 \nL 8.5 54.6875 \nL 17.484375 54.6875 \nL 17.484375 21.921875 \nQ 17.484375 14.15625 20.5 10.265625 \nQ 23.53125 6.390625 29.59375 6.390625 \nQ 36.859375 6.390625 41.078125 11.03125 \nQ 45.3125 15.671875 45.3125 23.6875 \nL 45.3125 54.6875 \nL 54.296875 54.6875 \nL 54.296875 0 \nL 45.3125 0 \nL 45.3125 8.40625 \nQ 42.046875 3.421875 37.71875 1 \nQ 33.40625 -1.421875 27.6875 -1.421875 \nQ 18.265625 -1.421875 13.375 4.4375 \nQ 8.5 10.296875 8.5 21.578125 \nz\nM 31.109375 56 \nz\n\" id=\"DejaVuSans-117\"/>\n     <path d=\"M 18.3125 70.21875 \nL 18.3125 54.6875 \nL 36.8125 54.6875 \nL 36.8125 47.703125 \nL 18.3125 47.703125 \nL 18.3125 18.015625 \nQ 18.3125 11.328125 20.140625 9.421875 \nQ 21.96875 7.515625 27.59375 7.515625 \nL 36.8125 7.515625 \nL 36.8125 0 \nL 27.59375 0 \nQ 17.1875 0 13.234375 3.875 \nQ 9.28125 7.765625 9.28125 18.015625 \nL 9.28125 47.703125 \nL 2.6875 47.703125 \nL 2.6875 54.6875 \nL 9.28125 54.6875 \nL 9.28125 70.21875 \nz\n\" id=\"DejaVuSans-116\"/>\n     <path id=\"DejaVuSans-32\"/>\n     <path d=\"M 52 44.1875 \nQ 55.375 50.25 60.0625 53.125 \nQ 64.75 56 71.09375 56 \nQ 79.640625 56 84.28125 50.015625 \nQ 88.921875 44.046875 88.921875 33.015625 \nL 88.921875 0 \nL 79.890625 0 \nL 79.890625 32.71875 \nQ 79.890625 40.578125 77.09375 44.375 \nQ 74.3125 48.1875 68.609375 48.1875 \nQ 61.625 48.1875 57.5625 43.546875 \nQ 53.515625 38.921875 53.515625 30.90625 \nL 53.515625 0 \nL 44.484375 0 \nL 44.484375 32.71875 \nQ 44.484375 40.625 41.703125 44.40625 \nQ 38.921875 48.1875 33.109375 48.1875 \nQ 26.21875 48.1875 22.15625 43.53125 \nQ 18.109375 38.875 18.109375 30.90625 \nL 18.109375 0 \nL 9.078125 0 \nL 9.078125 54.6875 \nL 18.109375 54.6875 \nL 18.109375 46.1875 \nQ 21.1875 51.21875 25.484375 53.609375 \nQ 29.78125 56 35.6875 56 \nQ 41.65625 56 45.828125 52.96875 \nQ 50 49.953125 52 44.1875 \nz\n\" id=\"DejaVuSans-109\"/>\n     <path d=\"M 34.28125 27.484375 \nQ 23.390625 27.484375 19.1875 25 \nQ 14.984375 22.515625 14.984375 16.5 \nQ 14.984375 11.71875 18.140625 8.90625 \nQ 21.296875 6.109375 26.703125 6.109375 \nQ 34.1875 6.109375 38.703125 11.40625 \nQ 43.21875 16.703125 43.21875 25.484375 \nL 43.21875 27.484375 \nz\nM 52.203125 31.203125 \nL 52.203125 0 \nL 43.21875 0 \nL 43.21875 8.296875 \nQ 40.140625 3.328125 35.546875 0.953125 \nQ 30.953125 -1.421875 24.3125 -1.421875 \nQ 15.921875 -1.421875 10.953125 3.296875 \nQ 6 8.015625 6 15.921875 \nQ 6 25.140625 12.171875 29.828125 \nQ 18.359375 34.515625 30.609375 34.515625 \nL 43.21875 34.515625 \nL 43.21875 35.40625 \nQ 43.21875 41.609375 39.140625 45 \nQ 35.0625 48.390625 27.6875 48.390625 \nQ 23 48.390625 18.546875 47.265625 \nQ 14.109375 46.140625 10.015625 43.890625 \nL 10.015625 52.203125 \nQ 14.9375 54.109375 19.578125 55.046875 \nQ 24.21875 56 28.609375 56 \nQ 40.484375 56 46.34375 49.84375 \nQ 52.203125 43.703125 52.203125 31.203125 \nz\n\" id=\"DejaVuSans-97\"/>\n     <path d=\"M 45.40625 27.984375 \nQ 45.40625 37.75 41.375 43.109375 \nQ 37.359375 48.484375 30.078125 48.484375 \nQ 22.859375 48.484375 18.828125 43.109375 \nQ 14.796875 37.75 14.796875 27.984375 \nQ 14.796875 18.265625 18.828125 12.890625 \nQ 22.859375 7.515625 30.078125 7.515625 \nQ 37.359375 7.515625 41.375 12.890625 \nQ 45.40625 18.265625 45.40625 27.984375 \nz\nM 54.390625 6.78125 \nQ 54.390625 -7.171875 48.1875 -13.984375 \nQ 42 -20.796875 29.203125 -20.796875 \nQ 24.46875 -20.796875 20.265625 -20.09375 \nQ 16.0625 -19.390625 12.109375 -17.921875 \nL 12.109375 -9.1875 \nQ 16.0625 -11.328125 19.921875 -12.34375 \nQ 23.78125 -13.375 27.78125 -13.375 \nQ 36.625 -13.375 41.015625 -8.765625 \nQ 45.40625 -4.15625 45.40625 5.171875 \nL 45.40625 9.625 \nQ 42.625 4.78125 38.28125 2.390625 \nQ 33.9375 0 27.875 0 \nQ 17.828125 0 11.671875 7.65625 \nQ 5.515625 15.328125 5.515625 27.984375 \nQ 5.515625 40.671875 11.671875 48.328125 \nQ 17.828125 56 27.875 56 \nQ 33.9375 56 38.28125 53.609375 \nQ 42.625 51.21875 45.40625 46.390625 \nL 45.40625 54.6875 \nL 54.390625 54.6875 \nz\n\" id=\"DejaVuSans-103\"/>\n     <path d=\"M 56.203125 29.59375 \nL 56.203125 25.203125 \nL 14.890625 25.203125 \nQ 15.484375 15.921875 20.484375 11.0625 \nQ 25.484375 6.203125 34.421875 6.203125 \nQ 39.59375 6.203125 44.453125 7.46875 \nQ 49.3125 8.734375 54.109375 11.28125 \nL 54.109375 2.78125 \nQ 49.265625 0.734375 44.1875 -0.34375 \nQ 39.109375 -1.421875 33.890625 -1.421875 \nQ 20.796875 -1.421875 13.15625 6.1875 \nQ 5.515625 13.8125 5.515625 26.8125 \nQ 5.515625 40.234375 12.765625 48.109375 \nQ 20.015625 56 32.328125 56 \nQ 43.359375 56 49.78125 48.890625 \nQ 56.203125 41.796875 56.203125 29.59375 \nz\nM 47.21875 32.234375 \nQ 47.125 39.59375 43.09375 43.984375 \nQ 39.0625 48.390625 32.421875 48.390625 \nQ 24.90625 48.390625 20.390625 44.140625 \nQ 15.875 39.890625 15.1875 32.171875 \nz\n\" id=\"DejaVuSans-101\"/>\n    </defs>\n    <g transform=\"translate(94.052923 16.318125)scale(0.12 -0.12)\">\n     <use xlink:href=\"#DejaVuSans-73\"/>\n     <use x=\"29.492188\" xlink:href=\"#DejaVuSans-110\"/>\n     <use x=\"92.871094\" xlink:href=\"#DejaVuSans-112\"/>\n     <use x=\"156.347656\" xlink:href=\"#DejaVuSans-117\"/>\n     <use x=\"219.726562\" xlink:href=\"#DejaVuSans-116\"/>\n     <use x=\"258.935547\" xlink:href=\"#DejaVuSans-32\"/>\n     <use x=\"290.722656\" xlink:href=\"#DejaVuSans-73\"/>\n     <use x=\"320.214844\" xlink:href=\"#DejaVuSans-109\"/>\n     <use x=\"417.626953\" xlink:href=\"#DejaVuSans-97\"/>\n     <use x=\"478.90625\" xlink:href=\"#DejaVuSans-103\"/>\n     <use x=\"542.382812\" xlink:href=\"#DejaVuSans-101\"/>\n    </g>\n   </g>\n  </g>\n  <g id=\"axes_2\">\n   <g clip-path=\"url(#pd723ec3583)\">\n    <image height=\"247\" id=\"image45802dc278\" transform=\"scale(1 -1)translate(0 -247)\" width=\"247\" x=\"302.611765\" xlink:href=\"data:image/png;base64,\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\" y=\"-21.494596\"/>\n   </g>\n   <g id=\"text_2\">\n    <!-- Ground Truth -->\n    <defs>\n     <path d=\"M 59.515625 10.40625 \nL 59.515625 29.984375 \nL 43.40625 29.984375 \nL 43.40625 38.09375 \nL 69.28125 38.09375 \nL 69.28125 6.78125 \nQ 63.578125 2.734375 56.6875 0.65625 \nQ 49.8125 -1.421875 42 -1.421875 \nQ 24.90625 -1.421875 15.25 8.5625 \nQ 5.609375 18.5625 5.609375 36.375 \nQ 5.609375 54.25 15.25 64.234375 \nQ 24.90625 74.21875 42 74.21875 \nQ 49.125 74.21875 55.546875 72.453125 \nQ 61.96875 70.703125 67.390625 67.28125 \nL 67.390625 56.78125 \nQ 61.921875 61.421875 55.765625 63.765625 \nQ 49.609375 66.109375 42.828125 66.109375 \nQ 29.4375 66.109375 22.71875 58.640625 \nQ 16.015625 51.171875 16.015625 36.375 \nQ 16.015625 21.625 22.71875 14.15625 \nQ 29.4375 6.6875 42.828125 6.6875 \nQ 48.046875 6.6875 52.140625 7.59375 \nQ 56.25 8.5 59.515625 10.40625 \nz\n\" id=\"DejaVuSans-71\"/>\n     <path d=\"M 41.109375 46.296875 \nQ 39.59375 47.171875 37.8125 47.578125 \nQ 36.03125 48 33.890625 48 \nQ 26.265625 48 22.1875 43.046875 \nQ 18.109375 38.09375 18.109375 28.8125 \nL 18.109375 0 \nL 9.078125 0 \nL 9.078125 54.6875 \nL 18.109375 54.6875 \nL 18.109375 46.1875 \nQ 20.953125 51.171875 25.484375 53.578125 \nQ 30.03125 56 36.53125 56 \nQ 37.453125 56 38.578125 55.875 \nQ 39.703125 55.765625 41.0625 55.515625 \nz\n\" id=\"DejaVuSans-114\"/>\n     <path d=\"M 30.609375 48.390625 \nQ 23.390625 48.390625 19.1875 42.75 \nQ 14.984375 37.109375 14.984375 27.296875 \nQ 14.984375 17.484375 19.15625 11.84375 \nQ 23.34375 6.203125 30.609375 6.203125 \nQ 37.796875 6.203125 41.984375 11.859375 \nQ 46.1875 17.53125 46.1875 27.296875 \nQ 46.1875 37.015625 41.984375 42.703125 \nQ 37.796875 48.390625 30.609375 48.390625 \nz\nM 30.609375 56 \nQ 42.328125 56 49.015625 48.375 \nQ 55.71875 40.765625 55.71875 27.296875 \nQ 55.71875 13.875 49.015625 6.21875 \nQ 42.328125 -1.421875 30.609375 -1.421875 \nQ 18.84375 -1.421875 12.171875 6.21875 \nQ 5.515625 13.875 5.515625 27.296875 \nQ 5.515625 40.765625 12.171875 48.375 \nQ 18.84375 56 30.609375 56 \nz\n\" id=\"DejaVuSans-111\"/>\n     <path d=\"M 45.40625 46.390625 \nL 45.40625 75.984375 \nL 54.390625 75.984375 \nL 54.390625 0 \nL 45.40625 0 \nL 45.40625 8.203125 \nQ 42.578125 3.328125 38.25 0.953125 \nQ 33.9375 -1.421875 27.875 -1.421875 \nQ 17.96875 -1.421875 11.734375 6.484375 \nQ 5.515625 14.40625 5.515625 27.296875 \nQ 5.515625 40.1875 11.734375 48.09375 \nQ 17.96875 56 27.875 56 \nQ 33.9375 56 38.25 53.625 \nQ 42.578125 51.265625 45.40625 46.390625 \nz\nM 14.796875 27.296875 \nQ 14.796875 17.390625 18.875 11.75 \nQ 22.953125 6.109375 30.078125 6.109375 \nQ 37.203125 6.109375 41.296875 11.75 \nQ 45.40625 17.390625 45.40625 27.296875 \nQ 45.40625 37.203125 41.296875 42.84375 \nQ 37.203125 48.484375 30.078125 48.484375 \nQ 22.953125 48.484375 18.875 42.84375 \nQ 14.796875 37.203125 14.796875 27.296875 \nz\n\" id=\"DejaVuSans-100\"/>\n     <path d=\"M -0.296875 72.90625 \nL 61.375 72.90625 \nL 61.375 64.59375 \nL 35.5 64.59375 \nL 35.5 0 \nL 25.59375 0 \nL 25.59375 64.59375 \nL -0.296875 64.59375 \nz\n\" id=\"DejaVuSans-84\"/>\n     <path d=\"M 54.890625 33.015625 \nL 54.890625 0 \nL 45.90625 0 \nL 45.90625 32.71875 \nQ 45.90625 40.484375 42.875 44.328125 \nQ 39.84375 48.1875 33.796875 48.1875 \nQ 26.515625 48.1875 22.3125 43.546875 \nQ 18.109375 38.921875 18.109375 30.90625 \nL 18.109375 0 \nL 9.078125 0 \nL 9.078125 75.984375 \nL 18.109375 75.984375 \nL 18.109375 46.1875 \nQ 21.34375 51.125 25.703125 53.5625 \nQ 30.078125 56 35.796875 56 \nQ 45.21875 56 50.046875 50.171875 \nQ 54.890625 44.34375 54.890625 33.015625 \nz\n\" id=\"DejaVuSans-104\"/>\n    </defs>\n    <g transform=\"translate(386.52375 16.318125)scale(0.12 -0.12)\">\n     <use xlink:href=\"#DejaVuSans-71\"/>\n     <use x=\"77.490234\" xlink:href=\"#DejaVuSans-114\"/>\n     <use x=\"116.353516\" xlink:href=\"#DejaVuSans-111\"/>\n     <use x=\"177.535156\" xlink:href=\"#DejaVuSans-117\"/>\n     <use x=\"240.914062\" xlink:href=\"#DejaVuSans-110\"/>\n     <use x=\"304.292969\" xlink:href=\"#DejaVuSans-100\"/>\n     <use x=\"367.769531\" xlink:href=\"#DejaVuSans-32\"/>\n     <use x=\"399.556641\" xlink:href=\"#DejaVuSans-84\"/>\n     <use x=\"445.890625\" xlink:href=\"#DejaVuSans-114\"/>\n     <use x=\"487.003906\" xlink:href=\"#DejaVuSans-117\"/>\n     <use x=\"550.382812\" xlink:href=\"#DejaVuSans-116\"/>\n     <use x=\"589.591797\" xlink:href=\"#DejaVuSans-104\"/>\n    </g>\n   </g>\n  </g>\n  <g id=\"axes_3\">\n   <g clip-path=\"url(#pb7b4591ef2)\">\n    <image height=\"247\" id=\"imageee35caf64f\" transform=\"scale(1 -1)translate(0 -247)\" width=\"247\" x=\"598.023529\" xlink:href=\"data:image/png;base64,\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\" y=\"-21.494596\"/>\n   </g>\n   <g id=\"text_3\">\n    <!-- Predicted Image -->\n    <defs>\n     <path d=\"M 19.671875 64.796875 \nL 19.671875 37.40625 \nL 32.078125 37.40625 \nQ 38.96875 37.40625 42.71875 40.96875 \nQ 46.484375 44.53125 46.484375 51.125 \nQ 46.484375 57.671875 42.71875 61.234375 \nQ 38.96875 64.796875 32.078125 64.796875 \nz\nM 9.8125 72.90625 \nL 32.078125 72.90625 \nQ 44.34375 72.90625 50.609375 67.359375 \nQ 56.890625 61.8125 56.890625 51.125 \nQ 56.890625 40.328125 50.609375 34.8125 \nQ 44.34375 29.296875 32.078125 29.296875 \nL 19.671875 29.296875 \nL 19.671875 0 \nL 9.8125 0 \nz\n\" id=\"DejaVuSans-80\"/>\n     <path d=\"M 9.421875 54.6875 \nL 18.40625 54.6875 \nL 18.40625 0 \nL 9.421875 0 \nz\nM 9.421875 75.984375 \nL 18.40625 75.984375 \nL 18.40625 64.59375 \nL 9.421875 64.59375 \nz\n\" id=\"DejaVuSans-105\"/>\n     <path d=\"M 48.78125 52.59375 \nL 48.78125 44.1875 \nQ 44.96875 46.296875 41.140625 47.34375 \nQ 37.3125 48.390625 33.40625 48.390625 \nQ 24.65625 48.390625 19.8125 42.84375 \nQ 14.984375 37.3125 14.984375 27.296875 \nQ 14.984375 17.28125 19.8125 11.734375 \nQ 24.65625 6.203125 33.40625 6.203125 \nQ 37.3125 6.203125 41.140625 7.25 \nQ 44.96875 8.296875 48.78125 10.40625 \nL 48.78125 2.09375 \nQ 45.015625 0.34375 40.984375 -0.53125 \nQ 36.96875 -1.421875 32.421875 -1.421875 \nQ 20.0625 -1.421875 12.78125 6.34375 \nQ 5.515625 14.109375 5.515625 27.296875 \nQ 5.515625 40.671875 12.859375 48.328125 \nQ 20.21875 56 33.015625 56 \nQ 37.15625 56 41.109375 55.140625 \nQ 45.0625 54.296875 48.78125 52.59375 \nz\n\" id=\"DejaVuSans-99\"/>\n    </defs>\n    <g transform=\"translate(672.248327 16.318125)scale(0.12 -0.12)\">\n     <use xlink:href=\"#DejaVuSans-80\"/>\n     <use x=\"58.552734\" xlink:href=\"#DejaVuSans-114\"/>\n     <use x=\"97.416016\" xlink:href=\"#DejaVuSans-101\"/>\n     <use x=\"158.939453\" xlink:href=\"#DejaVuSans-100\"/>\n     <use x=\"222.416016\" xlink:href=\"#DejaVuSans-105\"/>\n     <use x=\"250.199219\" xlink:href=\"#DejaVuSans-99\"/>\n     <use x=\"305.179688\" xlink:href=\"#DejaVuSans-116\"/>\n     <use x=\"344.388672\" xlink:href=\"#DejaVuSans-101\"/>\n     <use x=\"405.912109\" xlink:href=\"#DejaVuSans-100\"/>\n     <use x=\"469.388672\" xlink:href=\"#DejaVuSans-32\"/>\n     <use x=\"501.175781\" xlink:href=\"#DejaVuSans-73\"/>\n     <use x=\"530.667969\" xlink:href=\"#DejaVuSans-109\"/>\n     <use x=\"628.080078\" xlink:href=\"#DejaVuSans-97\"/>\n     <use x=\"689.359375\" xlink:href=\"#DejaVuSans-103\"/>\n     <use x=\"752.835938\" xlink:href=\"#DejaVuSans-101\"/>\n    </g>\n   </g>\n  </g>\n </g>\n <defs>\n  <clipPath id=\"p28deddb7ec\">\n   <rect height=\"246.176471\" width=\"246.176471\" x=\"7.2\" y=\"22.318125\"/>\n  </clipPath>\n  <clipPath id=\"pd723ec3583\">\n   <rect height=\"246.176471\" width=\"246.176471\" x=\"302.611765\" y=\"22.318125\"/>\n  </clipPath>\n  <clipPath id=\"pb7b4591ef2\">\n   <rect height=\"246.176471\" width=\"246.176471\" x=\"598.023529\" y=\"22.318125\"/>\n  </clipPath>\n </defs>\n</svg>\n",
            "image/png": "[encoded data removed]"
          },
          "metadata": {
            "needs_background": "light"
          }
        },
        {
          "output_type": "stream",
          "name": "stdout",
          "text": "Epoch:  149\n....................................................................................................\n....................................................................................................\n....................................................................................................\n....................................................................................................\n....................................................................................................\n..................................................................\nTime taken for epoch 150 is 51.08893823623657 sec\n\n"
        }
      ],
      "source": [
        "fit(train_dataset, EPOCHS, test_dataset)"
      ]
    },
    {
      "cell_type": "code",
      "execution_count": 33,
      "metadata": {},
      "outputs": [
        {
          "output_type": "execute_result",
          "data": {
            "text/plain": "<tensorflow.python.training.tracking.util.CheckpointLoadStatus at 0x7fa8a81cf890>"
          },
          "metadata": {},
          "execution_count": 33
        }
      ],
      "source": [
        "checkpoint.restore(tf.train.latest_checkpoint(checkpoint_dir))"
      ]
    },
    {
      "cell_type": "markdown",
      "metadata": {},
      "source": [
        "# IV. Function to automate crop images:"
      ]
    },
    {
      "cell_type": "code",
      "execution_count": 50,
      "metadata": {},
      "outputs": [],
      "source": [
        "import cv2\n",
        "import numpy as np"
      ]
    },
    {
      "cell_type": "markdown",
      "metadata": {},
      "source": [
        "## 1. Helper Functions for Implement code:"
      ]
    },
    {
      "cell_type": "code",
      "execution_count": 51,
      "metadata": {},
      "outputs": [],
      "source": [
        "def resize_final(input_image, height, width):\n",
        "  input_image = tf.image.resize(input_image, [height, width],\n",
        "                                method=tf.image.ResizeMethod.NEAREST_NEIGHBOR)\n",
        "\n",
        "  return input_image"
      ]
    },
    {
      "cell_type": "code",
      "execution_count": 52,
      "metadata": {},
      "outputs": [],
      "source": [
        "def random_crop_final(input_image):\n",
        "  stacked_image = tf.stack([input_image], axis=0)\n",
        "  cropped_image = tf.image.random_crop(\n",
        "      stacked_image, size=[1, IMG_HEIGHT, IMG_WIDTH, 3])\n",
        "\n",
        "  return cropped_image[0]"
      ]
    },
    {
      "cell_type": "code",
      "execution_count": 53,
      "metadata": {},
      "outputs": [],
      "source": [
        "def normalize_final(input_image):\n",
        "  \"\"\" Normalizing the images to [-1, 1]\n",
        "  \"\"\"\n",
        "  input_image = (input_image / 127.5) - 1\n",
        "\n",
        "  return input_image"
      ]
    },
    {
      "cell_type": "code",
      "execution_count": 54,
      "metadata": {},
      "outputs": [],
      "source": [
        "def de_normalize_final(input_image):\n",
        "  \"\"\" Normalizing the images to [-1, 1]\n",
        "  \"\"\"\n",
        "  input_image = (input_image + 1) * 127.5\n",
        "\n",
        "  return input_image"
      ]
    },
    {
      "cell_type": "code",
      "execution_count": 55,
      "metadata": {},
      "outputs": [],
      "source": [
        "@tf.function()\n",
        "def random_jitter_final(input_image):\n",
        "  # resizing to 256 x 256 x 3\n",
        "  input_image = resize_final(input_image, 256, 256)\n",
        "\n",
        "  return input_image"
      ]
    },
    {
      "cell_type": "code",
      "execution_count": 56,
      "metadata": {},
      "outputs": [],
      "source": [
        "def load_final(image_file):\n",
        "  image = tf.io.read_file(image_file)\n",
        "  image = tf.image.decode_png(image, channels=3)\n",
        "  image = tf.cast(image, tf.float32)\n",
        "\n",
        "  return image"
      ]
    },
    {
      "cell_type": "code",
      "execution_count": 57,
      "metadata": {},
      "outputs": [],
      "source": [
        "def load_image_final(img):\n",
        "    nam = img.split(\"/\")[-1][:-4]\n",
        "    img = load_final(img)\n",
        "    img = random_jitter_final(img)\n",
        "    img = normalize_final(img)\n",
        "\n",
        "    return img, nam"
      ]
    },
    {
      "cell_type": "code",
      "execution_count": 58,
      "metadata": {},
      "outputs": [],
      "source": [
        "def predict_images(model, test_input):\n",
        "    prediction = model(test_input, training=True)\n",
        "    return prediction[0] * 0.5 + 0.5\n"
      ]
    },
    {
      "cell_type": "code",
      "execution_count": 59,
      "metadata": {},
      "outputs": [],
      "source": [
        "def crop_minAreaRect(img, rect):\n",
        "    rect0 = (rect[0], rect[1], 0.0) \n",
        "    box = cv2.boxPoints(rect0)\n",
        "    pts = np.int0(box)  \n",
        "    pts[pts < 0] = 0\n",
        "\n",
        "    # crop\n",
        "    img_crop = img[pts[1][1]:pts[0][1], \n",
        "                       pts[1][0]:pts[2][0]]\n",
        "\n",
        "    return img_crop"
      ]
    },
    {
      "cell_type": "code",
      "execution_count": 60,
      "metadata": {},
      "outputs": [],
      "source": [
        "def final_image_generator(model, test_input):\n",
        "    test_input, nam = load_image_final(test_input)\n",
        "\n",
        "    test_ori = np.float32(test_input)\n",
        "    test_ori = de_normalize_final(test_ori)\n",
        "\n",
        "    test_input = tf.expand_dims(test_input, axis=0)\n",
        "    image = predict_images(model, test_input)\n",
        "    image = np.float32(image) * 255\n",
        "    \n",
        "    thresh = 127\n",
        "    image = cv2.threshold(image, thresh, 255, cv2.THRESH_BINARY)[1]\n",
        "\n",
        "    image = cv2.cvtColor(image, cv2.COLOR_BGR2GRAY)\n",
        "\n",
        "    kernel_open = np.ones((2,2))\n",
        "\n",
        "    mask_open = cv2.morphologyEx(image, cv2.MORPH_OPEN, kernel_open)\n",
        "\n",
        "    image_edit = mask_open.copy()\n",
        "\n",
        "    points = cv2.findNonZero(image_edit)\n",
        "    rect = cv2.minAreaRect(points)\n",
        "\n",
        "    # crop\n",
        "    img_croped = crop_minAreaRect(test_ori, rect)\n",
        "\n",
        "    \n",
        "\n",
        "    return nam, img_croped"
      ]
    },
    {
      "cell_type": "markdown",
      "metadata": {},
      "source": [
        "## 2. Load images and crop:"
      ]
    },
    {
      "cell_type": "code",
      "execution_count": 93,
      "metadata": {},
      "outputs": [],
      "source": [
        "data_t = pd.read_csv('/home/jupyter/lung_x_ray/data/CheXpert-v1.0-small/train_edit.csv')\n",
        "data_v = pd.read_csv('/home/jupyter/lung_x_ray/data/CheXpert-v1.0-small/valid_edit.csv')"
      ]
    },
    {
      "cell_type": "code",
      "execution_count": 94,
      "metadata": {},
      "outputs": [],
      "source": [
        "data_\btrain = data_t[data_t['Frontal/Lateral'] == 'Frontal']\n",
        "data_\btrain['img_path'] = '/home/jupyter/lung_x_ray/data/' + data_\btrain['Path']\n",
        "data_\btrain = data_\btrain[['img_path']]\n",
        "\n",
        "data_valid = data_v[data_v['Frontal/Lateral'] == 'Frontal']\n",
        "data_valid['img_path'] = '/home/jupyter/lung_x_ray/data/' + data_valid['Path']\n",
        "data_valid = data_valid[['img_path']]"
      ]
    },
    {
      "cell_type": "code",
      "execution_count": null,
      "metadata": {},
      "outputs": [],
      "source": [
        "train_list = list(data_train['img_path'])\n",
        "\n",
        "valid_list = list(data_valid['img_path'])"
      ]
    },
    {
      "cell_type": "code",
      "execution_count": 65,
      "metadata": {},
      "outputs": [],
      "source": [
        "def crop_img(crop_list):\n",
        "    len_crop_list = len(crop_list)\n",
        "    count = 0\n",
        "    for i in crop_list:\n",
        "        nam, croped_img = final_image_generator(generator, i)\n",
        "        count += 1\n",
        "        a = os.path.join(CROP_PATH , str(count)+ '-' + nam + '.jpg')\n",
        "        cv2.imwrite(a, croped_img)\n",
        "        print(count,'/',len_crop_list,round(((count/len_crop_list)*100),2))\n"
      ]
    },
    {
      "cell_type": "code",
      "execution_count": null,
      "metadata": {},
      "outputs": [],
      "source": [
        "crop_img(train_list)"
      ]
    },
    {
      "cell_type": "code",
      "execution_count": 66,
      "metadata": {
        "tags": []
      },
      "outputs": [
        {
          "output_type": "stream",
          "name": "stdout",
          "text": "1 / 202 0.5\n2 / 202 0.99\n3 / 202 1.49\n4 / 202 1.98\n5 / 202 2.48\n6 / 202 2.97\n7 / 202 3.47\n8 / 202 3.96\n9 / 202 4.46\n10 / 202 4.95\n11 / 202 5.45\n12 / 202 5.94\n13 / 202 6.44\n14 / 202 6.93\n15 / 202 7.43\nWARNING:tensorflow:5 out of the last 15 calls to <function random_jitter_final at 0x7f8c8c75c050> triggered tf.function retracing. Tracing is expensive and the excessive number of tracings is likely due to passing python objects instead of tensors. Also, tf.function has experimental_relax_shapes=True option that relaxes argument shapes that can avoid unnecessary retracing. Please refer to https://www.tensorflow.org/tutorials/customization/performance#python_or_tensor_args and https://www.tensorflow.org/api_docs/python/tf/function for more details.\n16 / 202 7.92\n17 / 202 8.42\n18 / 202 8.91\n19 / 202 9.41\n20 / 202 9.9\nWARNING:tensorflow:5 out of the last 14 calls to <function random_jitter_final at 0x7f8c8c75c050> triggered tf.function retracing. Tracing is expensive and the excessive number of tracings is likely due to passing python objects instead of tensors. Also, tf.function has experimental_relax_shapes=True option that relaxes argument shapes that can avoid unnecessary retracing. Please refer to https://www.tensorflow.org/tutorials/customization/performance#python_or_tensor_args and https://www.tensorflow.org/api_docs/python/tf/function for more details.\n21 / 202 10.4\n22 / 202 10.89\n23 / 202 11.39\n24 / 202 11.88\n25 / 202 12.38\n26 / 202 12.87\n27 / 202 13.37\n28 / 202 13.86\n29 / 202 14.36\n30 / 202 14.85\n31 / 202 15.35\n32 / 202 15.84\n33 / 202 16.34\n34 / 202 16.83\n35 / 202 17.33\n36 / 202 17.82\n37 / 202 18.32\n38 / 202 18.81\n39 / 202 19.31\n40 / 202 19.8\n41 / 202 20.3\n42 / 202 20.79\n43 / 202 21.29\n44 / 202 21.78\n45 / 202 22.28\n46 / 202 22.77\n47 / 202 23.27\n48 / 202 23.76\n49 / 202 24.26\n50 / 202 24.75\n51 / 202 25.25\n52 / 202 25.74\n53 / 202 26.24\n54 / 202 26.73\n55 / 202 27.23\n56 / 202 27.72\n57 / 202 28.22\n58 / 202 28.71\n59 / 202 29.21\n60 / 202 29.7\n61 / 202 30.2\n62 / 202 30.69\n63 / 202 31.19\n64 / 202 31.68\n65 / 202 32.18\n66 / 202 32.67\n67 / 202 33.17\n68 / 202 33.66\n69 / 202 34.16\n70 / 202 34.65\n71 / 202 35.15\n72 / 202 35.64\n73 / 202 36.14\n74 / 202 36.63\n75 / 202 37.13\n76 / 202 37.62\n77 / 202 38.12\n78 / 202 38.61\n79 / 202 39.11\n80 / 202 39.6\n81 / 202 40.1\n82 / 202 40.59\n83 / 202 41.09\n84 / 202 41.58\n85 / 202 42.08\n86 / 202 42.57\n87 / 202 43.07\n88 / 202 43.56\n89 / 202 44.06\n90 / 202 44.55\n91 / 202 45.05\n92 / 202 45.54\n93 / 202 46.04\n94 / 202 46.53\n95 / 202 47.03\n96 / 202 47.52\n97 / 202 48.02\n98 / 202 48.51\n99 / 202 49.01\n100 / 202 49.5\n101 / 202 50.0\n102 / 202 50.5\n103 / 202 50.99\nWARNING:tensorflow:5 out of the last 24 calls to <function random_jitter_final at 0x7f8c8c75c050> triggered tf.function retracing. Tracing is expensive and the excessive number of tracings is likely due to passing python objects instead of tensors. Also, tf.function has experimental_relax_shapes=True option that relaxes argument shapes that can avoid unnecessary retracing. Please refer to https://www.tensorflow.org/tutorials/customization/performance#python_or_tensor_args and https://www.tensorflow.org/api_docs/python/tf/function for more details.\n104 / 202 51.49\n105 / 202 51.98\n106 / 202 52.48\n107 / 202 52.97\n108 / 202 53.47\n109 / 202 53.96\n110 / 202 54.46\n111 / 202 54.95\n112 / 202 55.45\n113 / 202 55.94\n114 / 202 56.44\n115 / 202 56.93\n116 / 202 57.43\n117 / 202 57.92\n118 / 202 58.42\n119 / 202 58.91\n120 / 202 59.41\n121 / 202 59.9\n122 / 202 60.4\n123 / 202 60.89\n124 / 202 61.39\n125 / 202 61.88\n126 / 202 62.38\n127 / 202 62.87\n128 / 202 63.37\n129 / 202 63.86\n130 / 202 64.36\n131 / 202 64.85\n132 / 202 65.35\n133 / 202 65.84\n134 / 202 66.34\n135 / 202 66.83\n136 / 202 67.33\n137 / 202 67.82\n138 / 202 68.32\n139 / 202 68.81\n140 / 202 69.31\n141 / 202 69.8\n142 / 202 70.3\n143 / 202 70.79\n144 / 202 71.29\n145 / 202 71.78\n146 / 202 72.28\n147 / 202 72.77\n148 / 202 73.27\n149 / 202 73.76\n150 / 202 74.26\n151 / 202 74.75\n152 / 202 75.25\n153 / 202 75.74\n154 / 202 76.24\n155 / 202 76.73\n156 / 202 77.23\n157 / 202 77.72\n158 / 202 78.22\n159 / 202 78.71\n160 / 202 79.21\n161 / 202 79.7\n162 / 202 80.2\n163 / 202 80.69\n164 / 202 81.19\n165 / 202 81.68\n166 / 202 82.18\n167 / 202 82.67\n168 / 202 83.17\n169 / 202 83.66\n170 / 202 84.16\n171 / 202 84.65\n172 / 202 85.15\n173 / 202 85.64\n174 / 202 86.14\n175 / 202 86.63\n176 / 202 87.13\n177 / 202 87.62\n178 / 202 88.12\n179 / 202 88.61\n180 / 202 89.11\n181 / 202 89.6\n182 / 202 90.1\n183 / 202 90.59\n184 / 202 91.09\n185 / 202 91.58\n186 / 202 92.08\n187 / 202 92.57\n188 / 202 93.07\n189 / 202 93.56\n190 / 202 94.06\n191 / 202 94.55\n192 / 202 95.05\n193 / 202 95.54\n194 / 202 96.04\n195 / 202 96.53\n196 / 202 97.03\n197 / 202 97.52\n198 / 202 98.02\n199 / 202 98.51\n200 / 202 99.01\n201 / 202 99.5\n202 / 202 100.0\n"
        }
      ],
      "source": [
        "crop_img(valid_list)"
      ]
    },
    {
      "cell_type": "markdown",
      "metadata": {},
      "source": [
        "## 3. Generate new train_new.csv and valid_new.csv"
      ]
    },
    {
      "cell_type": "markdown",
      "metadata": {},
      "source": [
        "### a. Train Set:"
      ]
    },
    {
      "cell_type": "markdown",
      "metadata": {},
      "source": [
        "- Get list contain all paths of generated train frontal:"
      ]
    },
    {
      "cell_type": "code",
      "execution_count": 4,
      "metadata": {},
      "outputs": [],
      "source": [
        "base_path = '/home/jupyter/lung_x_ray/data/CheXpert-v1.0-small/train_frontal_cropped'\n",
        "\n",
        "def get_imgage_path(src):\n",
        "    img_list = []\n",
        "    x_path = os.scandir(src)\n",
        "    for x in x_path:\n",
        "        if x.is_file():\n",
        "            img_list.extend([x.path])\n",
        "\n",
        "    return img_list"
      ]
    },
    {
      "cell_type": "code",
      "execution_count": 5,
      "metadata": {},
      "outputs": [],
      "source": [
        "croped_train_frontal_list = get_imgage_path(base_path)"
      ]
    },
    {
      "cell_type": "markdown",
      "metadata": {},
      "source": [
        "- Sort the list:"
      ]
    },
    {
      "cell_type": "code",
      "execution_count": 11,
      "metadata": {},
      "outputs": [
        {
          "output_type": "execute_result",
          "data": {
            "text/plain": "'65735'"
          },
          "metadata": {},
          "execution_count": 11
        }
      ],
      "source": [
        "croped_train_frontal_list[0].split('/')[-1].split('-')[0]"
      ]
    },
    {
      "cell_type": "code",
      "execution_count": 14,
      "metadata": {},
      "outputs": [],
      "source": [
        "def get_order(x):\n",
        "    return int(x.split('/')[-1].split('-')[0])"
      ]
    },
    {
      "cell_type": "code",
      "execution_count": 15,
      "metadata": {},
      "outputs": [],
      "source": [
        "croped_train_frontal_list.sort(key=get_order)"
      ]
    },
    {
      "cell_type": "markdown",
      "metadata": {},
      "source": [
        "- Add back to train_new.csv"
      ]
    },
    {
      "cell_type": "code",
      "execution_count": 71,
      "metadata": {},
      "outputs": [],
      "source": [
        "train_old = pd.read_csv('/home/jupyter/lung_x_ray/data/CheXpert-v1.0-small/train_edit.csv')\n",
        "train_old['img_paths_old'] = '/home/jupyter/lung_x_ray/data/' + train_old['Path']\n",
        "train_fron = train_old[train_old['Frontal/Lateral'] == 'Frontal']\n",
        "train_fron['img_paths'] = croped_train_frontal_list\n",
        "train_fron.drop(columns=['img_paths_old'], inplace=True)\n",
        "train_lat = train_old[train_old['Frontal/Lateral'] == 'Lateral']\n",
        "train_lat = train_lat.rename(columns={'img_paths_old': 'img_paths'})"
      ]
    },
    {
      "cell_type": "markdown",
      "metadata": {},
      "source": [
        "- Merge train_old and train_new"
      ]
    },
    {
      "cell_type": "code",
      "execution_count": 79,
      "metadata": {},
      "outputs": [],
      "source": [
        "train_final = pd.concat([train_fron, train_lat])"
      ]
    },
    {
      "cell_type": "code",
      "execution_count": 81,
      "metadata": {},
      "outputs": [],
      "source": [
        "train_final.to_csv('train_final.csv',index=False)"
      ]
    },
    {
      "cell_type": "markdown",
      "metadata": {},
      "source": [
        "### b. Validation Set"
      ]
    },
    {
      "cell_type": "markdown",
      "metadata": {},
      "source": [
        "- Get list contain all paths of generated valid frontal:"
      ]
    },
    {
      "cell_type": "code",
      "execution_count": 82,
      "metadata": {},
      "outputs": [],
      "source": [
        "base_path = '/home/jupyter/lung_x_ray/data/CheXpert-v1.0-small/val_frontal_cropped'\n",
        "\n",
        "def get_imgage_path(src):\n",
        "    img_list = []\n",
        "    x_path = os.scandir(src)\n",
        "    for x in x_path:\n",
        "        if x.is_file():\n",
        "            img_list.extend([x.path])\n",
        "\n",
        "    return img_list"
      ]
    },
    {
      "cell_type": "code",
      "execution_count": 83,
      "metadata": {},
      "outputs": [],
      "source": [
        "croped_valid_frontal_list = get_imgage_path(base_path)"
      ]
    },
    {
      "cell_type": "markdown",
      "metadata": {},
      "source": [
        "- Sort the list:"
      ]
    },
    {
      "cell_type": "code",
      "execution_count": 84,
      "metadata": {},
      "outputs": [],
      "source": [
        "def get_order(x):\n",
        "    return int(x.split('/')[-1].split('-')[0])"
      ]
    },
    {
      "cell_type": "code",
      "execution_count": 85,
      "metadata": {},
      "outputs": [],
      "source": [
        "croped_valid_frontal_list.sort(key=get_order)"
      ]
    },
    {
      "cell_type": "markdown",
      "metadata": {},
      "source": [
        "- Add back to valid_new.csv"
      ]
    },
    {
      "cell_type": "code",
      "execution_count": 97,
      "metadata": {},
      "outputs": [],
      "source": [
        "valid_old = pd.read_csv('/home/jupyter/lung_x_ray/data/CheXpert-v1.0-small/valid_edit.csv')\n",
        "valid_old['img_paths_old'] = '/home/jupyter/lung_x_ray/data/' + valid_old['Path']\n",
        "valid_fron = valid_old[valid_old['Frontal/Lateral'] == 'Frontal']\n",
        "valid_fron['img_paths'] = croped_valid_frontal_list\n",
        "valid_fron.drop(columns=['img_paths_old'], inplace=True)\n",
        "valid_lat = valid_old[valid_old['Frontal/Lateral'] == 'Lateral']\n",
        "valid_lat = valid_lat.rename(columns={'img_paths_old': 'img_paths'})"
      ]
    },
    {
      "cell_type": "markdown",
      "metadata": {},
      "source": [
        "- Merge valid_old and valid_new"
      ]
    },
    {
      "cell_type": "code",
      "execution_count": 106,
      "metadata": {},
      "outputs": [],
      "source": [
        "valid_final = pd.concat([valid_fron, valid_lat])"
      ]
    },
    {
      "cell_type": "code",
      "execution_count": 108,
      "metadata": {},
      "outputs": [],
      "source": [
        "valid_final.to_csv('valid_final.csv',index=False)"
      ]
    }
  ],
  "metadata": {
    "colab": {
      "name": "Untitled15.ipynb",
      "provenance": []
    },
    "kernelspec": {
      "name": "python3",
      "display_name": "Python 3"
    }
  },
  "nbformat": 4,
  "nbformat_minor": 0
}