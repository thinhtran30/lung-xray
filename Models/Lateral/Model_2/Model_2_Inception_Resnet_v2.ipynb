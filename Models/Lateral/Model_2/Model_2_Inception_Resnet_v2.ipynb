{
  "cells": [
    {
      "cell_type": "markdown",
      "metadata": {},
      "source": [
        "# I. Import Libraries:"
      ]
    },
    {
      "cell_type": "code",
      "execution_count": 46,
      "metadata": {},
      "outputs": [],
      "source": [
        "import numpy as np\n",
        "import pandas as pd\n",
        "import matplotlib.pyplot as plt\n",
        "import seaborn as sns\n",
        "import cv2\n",
        "\n",
        "import warnings\n",
        "warnings.filterwarnings('ignore')\n",
        "\n",
        "sns.set_style(\"whitegrid\")"
      ]
    },
    {
      "cell_type": "code",
      "execution_count": null,
      "metadata": {},
      "outputs": [],
      "source": [
        "import tensorflow as tf\n",
        "print(tf.__version__)"
      ]
    },
    {
      "cell_type": "markdown",
      "metadata": {},
      "source": [
        "# II. Edit Data:"
      ]
    },
    {
      "cell_type": "code",
      "execution_count": 93,
      "metadata": {},
      "outputs": [],
      "source": [
        "DATA_ROOT = '/home/jupyter/lung_x_ray/data/'\n",
        "PROJECT_FOLDER = '/home/jupyter/lung_x_ray'\n",
        "MODEL_FOLDER = '/home/jupyter/lung_x_ray/trained_model/xception'"
      ]
    },
    {
      "cell_type": "code",
      "execution_count": 94,
      "metadata": {},
      "outputs": [
        {
          "output_type": "execute_result",
          "data": {
            "text/plain": "                                                     Path     Sex  Age  \\\n30254   CheXpert-v1.0-small/train/patient09374/study7/...  Female   53   \n31349   CheXpert-v1.0-small/train/patient09717/study1/...    Male   73   \n151067  CheXpert-v1.0-small/train/patient42835/study8/...    Male   58   \n19576   CheXpert-v1.0-small/train/patient06051/study9/...    Male   71   \n197088  CheXpert-v1.0-small/train/patient07123/study3/...    Male   55   \n\n       Frontal/Lateral AP/PA  No Finding  Enlarged Cardiomediastinum  \\\n30254          Frontal    AP         1.0                         0.0   \n31349          Frontal    AP         NaN                         NaN   \n151067         Frontal    AP         NaN                         NaN   \n19576          Frontal    AP         NaN                         NaN   \n197088         Lateral   NaN         NaN                         NaN   \n\n        Cardiomegaly  Lung Opacity  Lung Lesion  Edema  Consolidation  \\\n30254            NaN           NaN          NaN    NaN            NaN   \n31349            NaN           1.0          NaN   -1.0            NaN   \n151067           NaN           1.0          NaN    1.0            NaN   \n19576            NaN           NaN          NaN    1.0            NaN   \n197088           0.0           1.0          1.0    0.0            NaN   \n\n        Pneumonia  Atelectasis  Pneumothorax  Pleural Effusion  Pleural Other  \\\n30254         0.0          NaN           NaN               NaN            NaN   \n31349         NaN          NaN           NaN               1.0            NaN   \n151067        NaN          NaN           NaN               NaN            NaN   \n19576         NaN          1.0           NaN               NaN            NaN   \n197088        NaN          NaN           NaN               NaN            NaN   \n\n        Fracture  Support Devices  \\\n30254        NaN              1.0   \n31349        NaN              1.0   \n151067       NaN              1.0   \n19576        NaN              1.0   \n197088       NaN              1.0   \n\n                                                img_paths  \n30254   /home/jupyter/lung_x_ray/data/CheXpert-v1.0-sm...  \n31349   /home/jupyter/lung_x_ray/data/CheXpert-v1.0-sm...  \n151067  /home/jupyter/lung_x_ray/data/CheXpert-v1.0-sm...  \n19576   /home/jupyter/lung_x_ray/data/CheXpert-v1.0-sm...  \n197088  /home/jupyter/lung_x_ray/data/CheXpert-v1.0-sm...  ",
            "text/html": "<div>\n<style scoped>\n    .dataframe tbody tr th:only-of-type {\n        vertical-align: middle;\n    }\n\n    .dataframe tbody tr th {\n        vertical-align: top;\n    }\n\n    .dataframe thead th {\n        text-align: right;\n    }\n</style>\n<table border=\"1\" class=\"dataframe\">\n  <thead>\n    <tr style=\"text-align: right;\">\n      <th></th>\n      <th>Path</th>\n      <th>Sex</th>\n      <th>Age</th>\n      <th>Frontal/Lateral</th>\n      <th>AP/PA</th>\n      <th>No Finding</th>\n      <th>Enlarged Cardiomediastinum</th>\n      <th>Cardiomegaly</th>\n      <th>Lung Opacity</th>\n      <th>Lung Lesion</th>\n      <th>Edema</th>\n      <th>Consolidation</th>\n      <th>Pneumonia</th>\n      <th>Atelectasis</th>\n      <th>Pneumothorax</th>\n      <th>Pleural Effusion</th>\n      <th>Pleural Other</th>\n      <th>Fracture</th>\n      <th>Support Devices</th>\n      <th>img_paths</th>\n    </tr>\n  </thead>\n  <tbody>\n    <tr>\n      <th>30254</th>\n      <td>CheXpert-v1.0-small/train/patient09374/study7/...</td>\n      <td>Female</td>\n      <td>53</td>\n      <td>Frontal</td>\n      <td>AP</td>\n      <td>1.0</td>\n      <td>0.0</td>\n      <td>NaN</td>\n      <td>NaN</td>\n      <td>NaN</td>\n      <td>NaN</td>\n      <td>NaN</td>\n      <td>0.0</td>\n      <td>NaN</td>\n      <td>NaN</td>\n      <td>NaN</td>\n      <td>NaN</td>\n      <td>NaN</td>\n      <td>1.0</td>\n      <td>/home/jupyter/lung_x_ray/data/CheXpert-v1.0-sm...</td>\n    </tr>\n    <tr>\n      <th>31349</th>\n      <td>CheXpert-v1.0-small/train/patient09717/study1/...</td>\n      <td>Male</td>\n      <td>73</td>\n      <td>Frontal</td>\n      <td>AP</td>\n      <td>NaN</td>\n      <td>NaN</td>\n      <td>NaN</td>\n      <td>1.0</td>\n      <td>NaN</td>\n      <td>-1.0</td>\n      <td>NaN</td>\n      <td>NaN</td>\n      <td>NaN</td>\n      <td>NaN</td>\n      <td>1.0</td>\n      <td>NaN</td>\n      <td>NaN</td>\n      <td>1.0</td>\n      <td>/home/jupyter/lung_x_ray/data/CheXpert-v1.0-sm...</td>\n    </tr>\n    <tr>\n      <th>151067</th>\n      <td>CheXpert-v1.0-small/train/patient42835/study8/...</td>\n      <td>Male</td>\n      <td>58</td>\n      <td>Frontal</td>\n      <td>AP</td>\n      <td>NaN</td>\n      <td>NaN</td>\n      <td>NaN</td>\n      <td>1.0</td>\n      <td>NaN</td>\n      <td>1.0</td>\n      <td>NaN</td>\n      <td>NaN</td>\n      <td>NaN</td>\n      <td>NaN</td>\n      <td>NaN</td>\n      <td>NaN</td>\n      <td>NaN</td>\n      <td>1.0</td>\n      <td>/home/jupyter/lung_x_ray/data/CheXpert-v1.0-sm...</td>\n    </tr>\n    <tr>\n      <th>19576</th>\n      <td>CheXpert-v1.0-small/train/patient06051/study9/...</td>\n      <td>Male</td>\n      <td>71</td>\n      <td>Frontal</td>\n      <td>AP</td>\n      <td>NaN</td>\n      <td>NaN</td>\n      <td>NaN</td>\n      <td>NaN</td>\n      <td>NaN</td>\n      <td>1.0</td>\n      <td>NaN</td>\n      <td>NaN</td>\n      <td>1.0</td>\n      <td>NaN</td>\n      <td>NaN</td>\n      <td>NaN</td>\n      <td>NaN</td>\n      <td>1.0</td>\n      <td>/home/jupyter/lung_x_ray/data/CheXpert-v1.0-sm...</td>\n    </tr>\n    <tr>\n      <th>197088</th>\n      <td>CheXpert-v1.0-small/train/patient07123/study3/...</td>\n      <td>Male</td>\n      <td>55</td>\n      <td>Lateral</td>\n      <td>NaN</td>\n      <td>NaN</td>\n      <td>NaN</td>\n      <td>0.0</td>\n      <td>1.0</td>\n      <td>1.0</td>\n      <td>0.0</td>\n      <td>NaN</td>\n      <td>NaN</td>\n      <td>NaN</td>\n      <td>NaN</td>\n      <td>NaN</td>\n      <td>NaN</td>\n      <td>NaN</td>\n      <td>1.0</td>\n      <td>/home/jupyter/lung_x_ray/data/CheXpert-v1.0-sm...</td>\n    </tr>\n  </tbody>\n</table>\n</div>"
          },
          "metadata": {},
          "execution_count": 94
        }
      ],
      "source": [
        "train = pd.read_csv('/home/jupyter/lung_x_ray/data/CheXpert-v1.0-small/Final_list/train_final.csv')\n",
        "valid = pd.read_csv('/home/jupyter/lung_x_ray/data/CheXpert-v1.0-small/Final_list/valid_final.csv')\n",
        "\n",
        "train.sample(5)"
      ]
    },
    {
      "cell_type": "code",
      "execution_count": 95,
      "metadata": {},
      "outputs": [],
      "source": [
        "train = train[train['No Finding'] != 1.0]\n",
        "valid = valid[valid['No Finding'] != 1.0]"
      ]
    },
    {
      "cell_type": "code",
      "execution_count": 98,
      "metadata": {},
      "outputs": [],
      "source": [
        "train = train[train['Frontal/Lateral'] == 'Lateral']\n",
        "valid = valid[valid['Frontal/Lateral'] == 'Lateral']"
      ]
    },
    {
      "cell_type": "code",
      "execution_count": 100,
      "metadata": {},
      "outputs": [],
      "source": [
        "train = train.rename(columns={\"img_paths\": \"image_paths\"})\n",
        "valid = valid.rename(columns={\"img_paths\": \"image_paths\"})"
      ]
    },
    {
      "cell_type": "markdown",
      "metadata": {},
      "source": [
        "- Drop all un-use columns"
      ]
    },
    {
      "cell_type": "code",
      "execution_count": 102,
      "metadata": {},
      "outputs": [],
      "source": [
        "train.drop(['Path','Sex', 'Age', 'Frontal/Lateral', 'AP/PA', 'No Finding'], axis=1, inplace = True)\n",
        "valid.drop(['Path','Sex', 'Age', 'Frontal/Lateral', 'AP/PA', 'No Finding'], axis=1, inplace = True)"
      ]
    },
    {
      "cell_type": "markdown",
      "metadata": {},
      "source": [
        "## 1. Label Processing:\n",
        "### a. Change all NaN (Blank) => 0 same as negative\n",
        "\n"
      ]
    },
    {
      "cell_type": "code",
      "execution_count": 104,
      "metadata": {},
      "outputs": [],
      "source": [
        "train.fillna(value=0, inplace=True)\n",
        "valid.fillna(value=0, inplace=True)"
      ]
    },
    {
      "cell_type": "markdown",
      "metadata": {},
      "source": [
        "### b. Apply U-One approach => Change all Uncertain (-1) to random number in range 0.55 - 0.85"
      ]
    },
    {
      "cell_type": "code",
      "execution_count": 106,
      "metadata": {},
      "outputs": [],
      "source": [
        "import random\n",
        "\n",
        "for i in range (0,13):\n",
        "    train.iloc[: , i] = train.iloc[:, i].map(lambda x: random.uniform(0.55, 0.85) if x == -1 else x)\n",
        "    valid.iloc[: , i] = valid.iloc[:, i].map(lambda x: random.uniform(0.55, 0.85) if x == -1 else x)"
      ]
    },
    {
      "cell_type": "markdown",
      "metadata": {},
      "source": [
        "## 2. Split train and valid data:"
      ]
    },
    {
      "cell_type": "code",
      "execution_count": 108,
      "metadata": {},
      "outputs": [],
      "source": [
        "train_amount = int(len(list(train['image_paths']))*0.8)\n",
        "data_set_change = train.iloc[train_amount:,:]\n",
        "train = train.drop(train.index[train_amount:], axis=0)\n",
        "valid = pd.concat([valid, data_set_change])"
      ]
    },
    {
      "cell_type": "code",
      "execution_count": null,
      "metadata": {},
      "outputs": [],
      "source": [
        "train_img = train['image_paths']\n",
        "val_img = valid['image_paths']"
      ]
    },
    {
      "cell_type": "markdown",
      "metadata": {},
      "source": [
        "## 3. Generate dataset:"
      ]
    },
    {
      "cell_type": "code",
      "execution_count": 117,
      "metadata": {},
      "outputs": [
        {
          "output_type": "execute_result",
          "data": {
            "text/plain": "['Enlarged Cardiomediastinum',\n 'Cardiomegaly',\n 'Lung Opacity',\n 'Lung Lesion',\n 'Edema',\n 'Consolidation',\n 'Pneumonia',\n 'Atelectasis',\n 'Pneumothorax',\n 'Pleural Effusion',\n 'Pleural Other',\n 'Fracture',\n 'Support Devices']"
          },
          "metadata": {},
          "execution_count": 117
        }
      ],
      "source": [
        "label_col = list(train.columns)[:-1]\n",
        "\n",
        "label_col"
      ]
    },
    {
      "cell_type": "code",
      "execution_count": null,
      "metadata": {},
      "outputs": [],
      "source": [
        "image_generator = tf.keras.preprocessing.image.ImageDataGenerator(\n",
        "    rescale=1. / 255,\n",
        "    rotation_range=15,\n",
        "    zoom_range=[0.95, 1.05],\n",
        "    width_shift_range=0.05,\n",
        "    height_shift_range=0.05,\n",
        "    shear_range=0.15,\n",
        "    fill_mode=\"constant\",\n",
        "    cval=128\n",
        ")\n",
        "\n",
        "train_ds = image_generator.flow_from_dataframe(train,\n",
        "                                                color_mode='rgb',\n",
        "                                                 x_col='image_paths',\n",
        "                                                 y_col=label_col,\n",
        "                                                 class_mode='raw',\n",
        "                                                 target_size=(299,299),\n",
        "                                                 shuffle=True,\n",
        "                                                 batch_size=32)\n",
        "\n",
        "val_ds = image_generator.flow_from_dataframe(valid,\n",
        "                                                    color_mode='rgb',\n",
        "                                                    x_col='image_paths',\n",
        "                                                    y_col=label_col,\n",
        "                                                    class_mode='raw',\n",
        "                                                    target_size=(299,299),\n",
        "                                                    batch_size=32)"
      ]
    },
    {
      "cell_type": "markdown",
      "metadata": {},
      "source": [
        "# III. Build Model:"
      ]
    },
    {
      "cell_type": "code",
      "execution_count": 121,
      "metadata": {
        "tags": []
      },
      "outputs": [],
      "source": [
        "inception = tf.keras.applications.InceptionResNetV2(input_shape=(299, 299, 3), weights=\"imagenet\", include_top=False)"
      ]
    },
    {
      "cell_type": "code",
      "execution_count": null,
      "metadata": {},
      "outputs": [],
      "source": [
        "inception.trainable=True"
      ]
    },
    {
      "cell_type": "code",
      "execution_count": 124,
      "metadata": {},
      "outputs": [],
      "source": [
        "fine_tune_at = 385"
      ]
    },
    {
      "cell_type": "code",
      "execution_count": 125,
      "metadata": {},
      "outputs": [],
      "source": [
        "for layer in inception.layers[:fine_tune_at]:\n",
        "    layer.trainable = False"
      ]
    },
    {
      "cell_type": "code",
      "execution_count": 126,
      "metadata": {},
      "outputs": [],
      "source": [
        "model2 = tf.keras.Sequential([\n",
        "    inception,\n",
        "    tf.keras.layers.GlobalAveragePooling2D(),\n",
        "    tf.keras.layers.Dense(13, activation = 'sigmoid')])"
      ]
    },
    {
      "cell_type": "code",
      "execution_count": 127,
      "metadata": {},
      "outputs": [],
      "source": [
        "model2.compile(optimizer=tf.keras.optimizers.Adam(learning_rate = 0.0001, beta_1 = 0.9, beta_2=0.999),\n",
        "              loss='binary_crossentropy',\n",
        "              metrics=[tf.keras.metrics.AUC()])"
      ]
    },
    {
      "cell_type": "code",
      "execution_count": null,
      "metadata": {},
      "outputs": [],
      "source": [
        "model2.summary()"
      ]
    },
    {
      "cell_type": "markdown",
      "metadata": {},
      "source": [
        "# IV. Training:"
      ]
    },
    {
      "cell_type": "code",
      "execution_count": 120,
      "metadata": {},
      "outputs": [],
      "source": [
        "#Setting up CheckPoint \n",
        "checkpoint_path = os.path.join(MODEL_FOLDER, \"lateral_inception_ckpt.h5\")\n",
        "checkpoint_dir = os.path.dirname(checkpoint_path)\n",
        "\n",
        "# Create a callback that saves the model's weights\n",
        "# by default it saves the weights every epoch\n",
        "cp_callback = tf.keras.callbacks.ModelCheckpoint(filepath=checkpoint_path,\n",
        "                                                 save_best_only = True,\n",
        "                                                 save_weights_only=True,\n",
        "                                                 mornitor = 'val_auc',\n",
        "                                                 verbose=1)"
      ]
    },
    {
      "cell_type": "code",
      "execution_count": null,
      "metadata": {},
      "outputs": [],
      "source": [
        "TRAIN_SAMPLES = len(train_img)\n",
        "VAL_SAMPLES = len(val_img)"
      ]
    },
    {
      "cell_type": "code",
      "execution_count": null,
      "metadata": {},
      "outputs": [],
      "source": [
        "# Train the model with Train data\n",
        "steps_per_epoch = len(train_img) // 32\n",
        "validation_steps = len(val_img) // 32\n",
        "\n",
        "history = model2.fit(train_ds, \n",
        "                    epochs=7,\n",
        "                    steps_per_epoch = steps_per_epoch,\n",
        "                    validation_data= val_ds,\n",
        "                    validation_steps = validation_steps,\n",
        "                   callbacks=[cp_callback])"
      ]
    },
    {
      "cell_type": "code",
      "execution_count": 92,
      "metadata": {},
      "outputs": [],
      "source": [
        "model2.save('./trained_model/lateral_inception.h5')"
      ]
    }
  ],
  "metadata": {
    "colab": {
      "name": "Untitled15.ipynb",
      "provenance": []
    },
    "kernelspec": {
      "name": "python3",
      "display_name": "Python 3"
    }
  },
  "nbformat": 4,
  "nbformat_minor": 0
}