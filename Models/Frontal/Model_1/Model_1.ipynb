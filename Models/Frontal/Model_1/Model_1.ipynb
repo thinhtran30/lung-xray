{
  "cells": [
    {
      "cell_type": "markdown",
      "metadata": {},
      "source": [
        "# I. Import Libraries:"
      ]
    },
    {
      "cell_type": "code",
      "execution_count": 1,
      "metadata": {},
      "outputs": [],
      "source": [
        "import numpy as np\n",
        "import pandas as pd\n",
        "import matplotlib.pyplot as plt\n",
        "import seaborn as sns\n",
        "import cv2\n",
        "\n",
        "import warnings\n",
        "warnings.filterwarnings('ignore')\n",
        "\n",
        "sns.set_style(\"whitegrid\")"
      ]
    },
    {
      "cell_type": "code",
      "execution_count": 2,
      "metadata": {
        "tags": []
      },
      "outputs": [
        {
          "output_type": "stream",
          "name": "stdout",
          "text": "2.2.0-dlenv\n"
        }
      ],
      "source": [
        "import tensorflow as tf\n",
        "print(tf.__version__)"
      ]
    },
    {
      "cell_type": "markdown",
      "metadata": {},
      "source": [
        "# II. Edit data:"
      ]
    },
    {
      "cell_type": "code",
      "execution_count": 3,
      "metadata": {},
      "outputs": [],
      "source": [
        "DATA_ROOT = '/home/jupyter/lung_x_ray/data/'\n",
        "PROJECT_FOLDER = '/home/jupyter/lung_x_ray'\n",
        "MODEL_FOLDER = '/home/jupyter/lung_x_ray/trained_model/model1'"
      ]
    },
    {
      "cell_type": "code",
      "execution_count": 65,
      "metadata": {},
      "outputs": [
        {
          "output_type": "execute_result",
          "data": {
            "text/plain": "                                                     Path     Sex  Age  \\\n185641  CheXpert-v1.0-small/train/patient59889/study1/...    Male   87   \n95384   CheXpert-v1.0-small/train/patient28817/study3/...  Female   79   \n145700  CheXpert-v1.0-small/train/patient41268/study1/...  Female   65   \n151476  CheXpert-v1.0-small/train/patient42968/study4/...  Female   23   \n202999  CheXpert-v1.0-small/train/patient13898/study4/...    Male   53   \n\n       Frontal/Lateral AP/PA  No Finding  Enlarged Cardiomediastinum  \\\n185641         Frontal    AP         NaN                         NaN   \n95384          Frontal    PA         NaN                         0.0   \n145700         Frontal    AP         NaN                         NaN   \n151476         Frontal    AP         NaN                         NaN   \n202999         Lateral   NaN         NaN                         NaN   \n\n        Cardiomegaly  Lung Opacity  Lung Lesion  Edema  Consolidation  \\\n185641           NaN           NaN          NaN    NaN            1.0   \n95384            NaN           NaN          NaN    NaN            0.0   \n145700           NaN           NaN          NaN    NaN            NaN   \n151476           NaN           1.0          NaN    NaN            NaN   \n202999           NaN           NaN          NaN    NaN            NaN   \n\n        Pneumonia  Atelectasis  Pneumothorax  Pleural Effusion  Pleural Other  \\\n185641       -1.0          NaN           NaN               NaN            NaN   \n95384         NaN          NaN           0.0               0.0            NaN   \n145700        NaN          1.0           NaN               1.0            NaN   \n151476        NaN          NaN           NaN               1.0            NaN   \n202999        NaN          NaN           0.0               NaN            NaN   \n\n        Fracture  Support Devices  \\\n185641       NaN              NaN   \n95384        1.0              NaN   \n145700       NaN              1.0   \n151476       NaN              1.0   \n202999       1.0              NaN   \n\n                                                img_paths  \n185641  /home/jupyter/lung_x_ray/data/CheXpert-v1.0-sm...  \n95384   /home/jupyter/lung_x_ray/data/CheXpert-v1.0-sm...  \n145700  /home/jupyter/lung_x_ray/data/CheXpert-v1.0-sm...  \n151476  /home/jupyter/lung_x_ray/data/CheXpert-v1.0-sm...  \n202999  /home/jupyter/lung_x_ray/data/CheXpert-v1.0-sm...  ",
            "text/html": "<div>\n<style scoped>\n    .dataframe tbody tr th:only-of-type {\n        vertical-align: middle;\n    }\n\n    .dataframe tbody tr th {\n        vertical-align: top;\n    }\n\n    .dataframe thead th {\n        text-align: right;\n    }\n</style>\n<table border=\"1\" class=\"dataframe\">\n  <thead>\n    <tr style=\"text-align: right;\">\n      <th></th>\n      <th>Path</th>\n      <th>Sex</th>\n      <th>Age</th>\n      <th>Frontal/Lateral</th>\n      <th>AP/PA</th>\n      <th>No Finding</th>\n      <th>Enlarged Cardiomediastinum</th>\n      <th>Cardiomegaly</th>\n      <th>Lung Opacity</th>\n      <th>Lung Lesion</th>\n      <th>Edema</th>\n      <th>Consolidation</th>\n      <th>Pneumonia</th>\n      <th>Atelectasis</th>\n      <th>Pneumothorax</th>\n      <th>Pleural Effusion</th>\n      <th>Pleural Other</th>\n      <th>Fracture</th>\n      <th>Support Devices</th>\n      <th>img_paths</th>\n    </tr>\n  </thead>\n  <tbody>\n    <tr>\n      <th>185641</th>\n      <td>CheXpert-v1.0-small/train/patient59889/study1/...</td>\n      <td>Male</td>\n      <td>87</td>\n      <td>Frontal</td>\n      <td>AP</td>\n      <td>NaN</td>\n      <td>NaN</td>\n      <td>NaN</td>\n      <td>NaN</td>\n      <td>NaN</td>\n      <td>NaN</td>\n      <td>1.0</td>\n      <td>-1.0</td>\n      <td>NaN</td>\n      <td>NaN</td>\n      <td>NaN</td>\n      <td>NaN</td>\n      <td>NaN</td>\n      <td>NaN</td>\n      <td>/home/jupyter/lung_x_ray/data/CheXpert-v1.0-sm...</td>\n    </tr>\n    <tr>\n      <th>95384</th>\n      <td>CheXpert-v1.0-small/train/patient28817/study3/...</td>\n      <td>Female</td>\n      <td>79</td>\n      <td>Frontal</td>\n      <td>PA</td>\n      <td>NaN</td>\n      <td>0.0</td>\n      <td>NaN</td>\n      <td>NaN</td>\n      <td>NaN</td>\n      <td>NaN</td>\n      <td>0.0</td>\n      <td>NaN</td>\n      <td>NaN</td>\n      <td>0.0</td>\n      <td>0.0</td>\n      <td>NaN</td>\n      <td>1.0</td>\n      <td>NaN</td>\n      <td>/home/jupyter/lung_x_ray/data/CheXpert-v1.0-sm...</td>\n    </tr>\n    <tr>\n      <th>145700</th>\n      <td>CheXpert-v1.0-small/train/patient41268/study1/...</td>\n      <td>Female</td>\n      <td>65</td>\n      <td>Frontal</td>\n      <td>AP</td>\n      <td>NaN</td>\n      <td>NaN</td>\n      <td>NaN</td>\n      <td>NaN</td>\n      <td>NaN</td>\n      <td>NaN</td>\n      <td>NaN</td>\n      <td>NaN</td>\n      <td>1.0</td>\n      <td>NaN</td>\n      <td>1.0</td>\n      <td>NaN</td>\n      <td>NaN</td>\n      <td>1.0</td>\n      <td>/home/jupyter/lung_x_ray/data/CheXpert-v1.0-sm...</td>\n    </tr>\n    <tr>\n      <th>151476</th>\n      <td>CheXpert-v1.0-small/train/patient42968/study4/...</td>\n      <td>Female</td>\n      <td>23</td>\n      <td>Frontal</td>\n      <td>AP</td>\n      <td>NaN</td>\n      <td>NaN</td>\n      <td>NaN</td>\n      <td>1.0</td>\n      <td>NaN</td>\n      <td>NaN</td>\n      <td>NaN</td>\n      <td>NaN</td>\n      <td>NaN</td>\n      <td>NaN</td>\n      <td>1.0</td>\n      <td>NaN</td>\n      <td>NaN</td>\n      <td>1.0</td>\n      <td>/home/jupyter/lung_x_ray/data/CheXpert-v1.0-sm...</td>\n    </tr>\n    <tr>\n      <th>202999</th>\n      <td>CheXpert-v1.0-small/train/patient13898/study4/...</td>\n      <td>Male</td>\n      <td>53</td>\n      <td>Lateral</td>\n      <td>NaN</td>\n      <td>NaN</td>\n      <td>NaN</td>\n      <td>NaN</td>\n      <td>NaN</td>\n      <td>NaN</td>\n      <td>NaN</td>\n      <td>NaN</td>\n      <td>NaN</td>\n      <td>NaN</td>\n      <td>0.0</td>\n      <td>NaN</td>\n      <td>NaN</td>\n      <td>1.0</td>\n      <td>NaN</td>\n      <td>/home/jupyter/lung_x_ray/data/CheXpert-v1.0-sm...</td>\n    </tr>\n  </tbody>\n</table>\n</div>"
          },
          "metadata": {},
          "execution_count": 65
        }
      ],
      "source": [
        "train = pd.read_csv('/home/jupyter/lung_x_ray/data/CheXpert-v1.0-small/Final_list/train_final.csv')\n",
        "valid = pd.read_csv('/home/jupyter/lung_x_ray/data/CheXpert-v1.0-small/Final_list/valid_final.csv')\n",
        "\n",
        "train.sample(5)"
      ]
    },
    {
      "cell_type": "code",
      "execution_count": 68,
      "metadata": {},
      "outputs": [],
      "source": [
        "train = train[train['Frontal/Lateral'] == 'Frontal']\n",
        "valid = valid[valid['Frontal/Lateral'] == 'Frontal']"
      ]
    },
    {
      "cell_type": "code",
      "execution_count": 70,
      "metadata": {},
      "outputs": [],
      "source": [
        "train = train.rename(columns={\"img_paths\": \"image_paths\"})\n",
        "valid = valid.rename(columns={\"img_paths\": \"image_paths\"})"
      ]
    },
    {
      "cell_type": "code",
      "execution_count": 72,
      "metadata": {},
      "outputs": [],
      "source": [
        "train = train[['image_paths','No Finding']]"
      ]
    },
    {
      "cell_type": "code",
      "execution_count": 73,
      "metadata": {},
      "outputs": [],
      "source": [
        "\u001dvalid = valid[['image_paths','No Finding']]"
      ]
    },
    {
      "cell_type": "code",
      "execution_count": 75,
      "metadata": {},
      "outputs": [
        {
          "output_type": "execute_result",
          "data": {
            "text/plain": "                                              image_paths  No Finding\n203357  /home/jupyter/lung_x_ray/data/CheXpert-v1.0-sm...         NaN\n210637  /home/jupyter/lung_x_ray/data/CheXpert-v1.0-sm...         NaN\n199132  /home/jupyter/lung_x_ray/data/CheXpert-v1.0-sm...         NaN\n195869  /home/jupyter/lung_x_ray/data/CheXpert-v1.0-sm...         NaN\n222185  /home/jupyter/lung_x_ray/data/CheXpert-v1.0-sm...         NaN",
            "text/html": "<div>\n<style scoped>\n    .dataframe tbody tr th:only-of-type {\n        vertical-align: middle;\n    }\n\n    .dataframe tbody tr th {\n        vertical-align: top;\n    }\n\n    .dataframe thead th {\n        text-align: right;\n    }\n</style>\n<table border=\"1\" class=\"dataframe\">\n  <thead>\n    <tr style=\"text-align: right;\">\n      <th></th>\n      <th>image_paths</th>\n      <th>No Finding</th>\n    </tr>\n  </thead>\n  <tbody>\n    <tr>\n      <th>203357</th>\n      <td>/home/jupyter/lung_x_ray/data/CheXpert-v1.0-sm...</td>\n      <td>NaN</td>\n    </tr>\n    <tr>\n      <th>210637</th>\n      <td>/home/jupyter/lung_x_ray/data/CheXpert-v1.0-sm...</td>\n      <td>NaN</td>\n    </tr>\n    <tr>\n      <th>199132</th>\n      <td>/home/jupyter/lung_x_ray/data/CheXpert-v1.0-sm...</td>\n      <td>NaN</td>\n    </tr>\n    <tr>\n      <th>195869</th>\n      <td>/home/jupyter/lung_x_ray/data/CheXpert-v1.0-sm...</td>\n      <td>NaN</td>\n    </tr>\n    <tr>\n      <th>222185</th>\n      <td>/home/jupyter/lung_x_ray/data/CheXpert-v1.0-sm...</td>\n      <td>NaN</td>\n    </tr>\n  </tbody>\n</table>\n</div>"
          },
          "metadata": {},
          "execution_count": 75
        }
      ],
      "source": [
        "train.sample(5)"
      ]
    },
    {
      "cell_type": "markdown",
      "metadata": {},
      "source": [
        "- Change all NaN (Blank) => 0 same as 'No Finding'\n",
        "\n"
      ]
    },
    {
      "cell_type": "code",
      "execution_count": 76,
      "metadata": {},
      "outputs": [],
      "source": [
        "train.fillna(value=0, inplace=True)\n",
        "valid.fillna(value=0, inplace=True)"
      ]
    },
    {
      "cell_type": "code",
      "execution_count": 77,
      "metadata": {},
      "outputs": [
        {
          "output_type": "execute_result",
          "data": {
            "text/plain": "                                              image_paths  No Finding\n211451  /home/jupyter/lung_x_ray/data/CheXpert-v1.0-sm...         0.0\n211779  /home/jupyter/lung_x_ray/data/CheXpert-v1.0-sm...         0.0\n204838  /home/jupyter/lung_x_ray/data/CheXpert-v1.0-sm...         0.0\n217798  /home/jupyter/lung_x_ray/data/CheXpert-v1.0-sm...         0.0\n193690  /home/jupyter/lung_x_ray/data/CheXpert-v1.0-sm...         0.0",
            "text/html": "<div>\n<style scoped>\n    .dataframe tbody tr th:only-of-type {\n        vertical-align: middle;\n    }\n\n    .dataframe tbody tr th {\n        vertical-align: top;\n    }\n\n    .dataframe thead th {\n        text-align: right;\n    }\n</style>\n<table border=\"1\" class=\"dataframe\">\n  <thead>\n    <tr style=\"text-align: right;\">\n      <th></th>\n      <th>image_paths</th>\n      <th>No Finding</th>\n    </tr>\n  </thead>\n  <tbody>\n    <tr>\n      <th>211451</th>\n      <td>/home/jupyter/lung_x_ray/data/CheXpert-v1.0-sm...</td>\n      <td>0.0</td>\n    </tr>\n    <tr>\n      <th>211779</th>\n      <td>/home/jupyter/lung_x_ray/data/CheXpert-v1.0-sm...</td>\n      <td>0.0</td>\n    </tr>\n    <tr>\n      <th>204838</th>\n      <td>/home/jupyter/lung_x_ray/data/CheXpert-v1.0-sm...</td>\n      <td>0.0</td>\n    </tr>\n    <tr>\n      <th>217798</th>\n      <td>/home/jupyter/lung_x_ray/data/CheXpert-v1.0-sm...</td>\n      <td>0.0</td>\n    </tr>\n    <tr>\n      <th>193690</th>\n      <td>/home/jupyter/lung_x_ray/data/CheXpert-v1.0-sm...</td>\n      <td>0.0</td>\n    </tr>\n  </tbody>\n</table>\n</div>"
          },
          "metadata": {},
          "execution_count": 77
        }
      ],
      "source": [
        "train.sample(5)"
      ]
    },
    {
      "cell_type": "markdown",
      "metadata": {},
      "source": [
        "- Split train, valid dataset:"
      ]
    },
    {
      "cell_type": "code",
      "execution_count": 80,
      "metadata": {},
      "outputs": [],
      "source": [
        "data_set_change = train.iloc[25935:,:]\n",
        "train = train.drop(train.index[25935:], axis=0)\n",
        "valid = pd.concat([valid, data_set_change])"
      ]
    },
    {
      "cell_type": "code",
      "execution_count": null,
      "metadata": {},
      "outputs": [],
      "source": [
        "train_img = train['image_paths']\n",
        "val_img = valid['image_paths']"
      ]
    },
    {
      "cell_type": "markdown",
      "metadata": {},
      "source": [
        "# III. Create Dataset:"
      ]
    },
    {
      "cell_type": "code",
      "execution_count": 89,
      "metadata": {},
      "outputs": [],
      "source": [
        "train['No Finding'] = train['No Finding'].astype(str)\n",
        "valid['No Finding'] = valid['No Finding'].astype(str)"
      ]
    },
    {
      "cell_type": "code",
      "execution_count": 90,
      "metadata": {
        "tags": []
      },
      "outputs": [
        {
          "output_type": "stream",
          "name": "stdout",
          "text": "Found 25935 validated image filenames belonging to 2 classes.\nFound 6484 validated image filenames belonging to 2 classes.\n"
        }
      ],
      "source": [
        "image_generator = tf.keras.preprocessing.image.ImageDataGenerator(\n",
        "    rescale=1. / 255,\n",
        "    rotation_range=15,\n",
        "    zoom_range=[0.95, 1.05],\n",
        "    width_shift_range=0.05,\n",
        "    height_shift_range=0.05,\n",
        "    shear_range=0.15,\n",
        "    fill_mode=\"constant\",\n",
        "    cval=128\n",
        ")\n",
        "\n",
        "\n",
        "train_ds = image_generator.flow_from_dataframe(train,\n",
        "                                                color_mode='rgb',\n",
        "                                                 x_col='image_paths',\n",
        "                                                 y_col='No Finding',\n",
        "                                                 class_mode='binary',\n",
        "                                                 target_size=(224,224),\n",
        "                                                 shuffle=True,\n",
        "                                                 batch_size=32)\n",
        "\n",
        "val_ds = image_generator.flow_from_dataframe(valid,\n",
        "                                                    color_mode='rgb',\n",
        "                                                    x_col='image_paths',\n",
        "                                                    y_col='No Finding',\n",
        "                                                    class_mode='binary',\n",
        "                                                    target_size=(224,224),\n",
        "                                                    batch_size=32)\n"
      ]
    },
    {
      "cell_type": "markdown",
      "metadata": {},
      "source": [
        "# IV. Build model"
      ]
    },
    {
      "cell_type": "code",
      "execution_count": 95,
      "metadata": {
        "tags": []
      },
      "outputs": [],
      "source": [
        "densenet = tf.keras.applications.DenseNet121(input_shape=(224, 224, 3), weights=\"imagenet\", include_top=False)"
      ]
    },
    {
      "cell_type": "code",
      "execution_count": null,
      "metadata": {},
      "outputs": [],
      "source": [
        "densenet.trainable=Truedensenet.trainable=True"
      ]
    },
    {
      "cell_type": "code",
      "execution_count": 98,
      "metadata": {},
      "outputs": [],
      "source": [
        "fine_tune_at = 141"
      ]
    },
    {
      "cell_type": "code",
      "execution_count": 99,
      "metadata": {},
      "outputs": [],
      "source": [
        "for layer in densenet.layers[:fine_tune_at]:\n",
        "    layer.trainable = False"
      ]
    },
    {
      "cell_type": "code",
      "execution_count": 100,
      "metadata": {},
      "outputs": [],
      "source": [
        "model2 = tf.keras.Sequential([\n",
        "    densenet,\n",
        "    tf.keras.layers.GlobalAveragePooling2D(),\n",
        "    tf.keras.layers.Dense(1, activation = 'sigmoid')])"
      ]
    },
    {
      "cell_type": "code",
      "execution_count": 102,
      "metadata": {},
      "outputs": [],
      "source": [
        "model2.compile(optimizer=tf.keras.optimizers.Adam(learning_rate = 0.0001, beta_1 = 0.9, beta_2=0.999),\n",
        "              loss='binary_crossentropy',\n",
        "              metrics=[tf.keras.metrics.AUC()])"
      ]
    },
    {
      "cell_type": "code",
      "execution_count": 103,
      "metadata": {
        "tags": []
      },
      "outputs": [
        {
          "output_type": "stream",
          "name": "stdout",
          "text": "Model: \"sequential_1\"\n_________________________________________________________________\nLayer (type)                 Output Shape              Param #   \n=================================================================\ndensenet121 (Model)          (None, 7, 7, 1024)        7037504   \n_________________________________________________________________\nglobal_average_pooling2d_1 ( (None, 1024)              0         \n_________________________________________________________________\ndense_1 (Dense)              (None, 1)                 1025      \n=================================================================\nTotal params: 7,038,529\nTrainable params: 5,525,249\nNon-trainable params: 1,513,280\n_________________________________________________________________\n"
        }
      ],
      "source": [
        "model2.summary()"
      ]
    },
    {
      "cell_type": "code",
      "execution_count": 93,
      "metadata": {},
      "outputs": [],
      "source": [
        "#Setting up CheckPoint \n",
        "checkpoint_path = os.path.join(MODEL_FOLDER, \"frontal_model1_ckpt.h5\")\n",
        "checkpoint_dir = os.path.dirname(checkpoint_path)\n",
        "\n",
        "# Create a callback that saves the model's weights\n",
        "# by default it saves the weights every epoch\n",
        "cp_callback = tf.keras.callbacks.ModelCheckpoint(filepath=checkpoint_path,\n",
        "                                                 save_best_only = True,\n",
        "                                                 save_weights_only=True,\n",
        "                                                 mornitor = 'val_auc',\n",
        "                                                 verbose=1)"
      ]
    },
    {
      "cell_type": "markdown",
      "metadata": {},
      "source": [
        "# V. Training:"
      ]
    },
    {
      "cell_type": "code",
      "execution_count": 104,
      "metadata": {
        "tags": []
      },
      "outputs": [
        {
          "output_type": "stream",
          "name": "stdout",
          "text": "25935 6484\n"
        }
      ],
      "source": [
        "TRAIN_SAMPLES = len(train_img)\n",
        "VAL_SAMPLES = len(val_img)\n",
        "\n",
        "print (TRAIN_SAMPLES, VAL_SAMPLES)"
      ]
    },
    {
      "cell_type": "code",
      "execution_count": null,
      "metadata": {},
      "outputs": [],
      "source": [
        "# Train the model with Train data\n",
        "steps_per_epoch = len(train_img) // 32\n",
        "validation_steps = len(val_img) // 32\n",
        "\n",
        "history = model2.fit(train_ds, \n",
        "                    epochs=10,\n",
        "                    steps_per_epoch = steps_per_epoch,\n",
        "                    validation_data= val_ds,\n",
        "                    validation_steps = validation_steps,\n",
        "                   callbacks=[cp_callback])"
      ]
    },
    {
      "cell_type": "code",
      "execution_count": 108,
      "metadata": {},
      "outputs": [],
      "source": [
        "model2.save('./trained_model/model1/frontal_model1.h5')"
      ]
    }
  ],
  "metadata": {
    "colab": {
      "name": "Untitled15.ipynb",
      "provenance": []
    },
    "kernelspec": {
      "name": "python3",
      "display_name": "Python 3"
    }
  },
  "nbformat": 4,
  "nbformat_minor": 0
}